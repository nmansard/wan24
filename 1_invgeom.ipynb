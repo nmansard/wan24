{
 "cells": [
  {
   "cell_type": "markdown",
   "metadata": {},
   "source": [
    "# Check your background of numerical programming\n",
    "\n",
    "This notebook is a quick recap of the main practical concepts of numerical programming, and introduces the Casadi module of the Pinocchio library:\n",
    "- Pinocchio is obviously a library gathering the main rigid-body dynamics library.\n",
    "- Casadi is an auto-differentiation tools, i.e. you can write symbolic expression and differentiate them. It is also wrapping the IpOpt solver, which is a quite robust and generic constraint-based optimization solver. You can then quickly write a problem with some symbolic expression for the cost and constraints, and Casadi will transfer it to IpOpt for solving it.\n",
    "- The Pinocchio/Casadi module is a part of the Pinocchio solver written by Justin Carpentier which uses Casadi to unroll the algorithms of Pinocchio into symbolic expression, which then can be differentiated. It is a very powerful tool for initiation and prototyping, although it cannot scales to very large problems (in particular whole-body optimization problems) due to various technical problems that we can discuss.\n",
    "\n",
    "## Definition of the toy problem studied here\n",
    "\n",
    "We propose to explain how to define and solve inverse-geometry problems, i.e. problems where the main decision variable is a single robot configuration.\n",
    "\n",
    "Inverse geometry is the problem of computing a configuration $q$ of a robot model that satisfies a set of 'tasks', which we formalize as error functions $e(q)$ that are zero when the task is achieved.\n",
    "\n",
    "- $q \\in \\mathcal{C}$: configuration of the robot.\n",
    "- $e_i(q) \\in \\mathbb{R}$: error function for task $i$. In this tutorial our error function is real valued.\n",
    "\n",
    "Typical tasks for limbed robots include putting a foot/end-effector on a surface, moving the center of mass (CoM) to a target location, etc. For example, an error function for a foot position task could be:\n",
    "\n",
    "$$\n",
    "e(q) = \\|p_\\mathrm{foot}^* - p_\\mathrm{foot}(q)\\|\n",
    "$$\n",
    "\n",
    "In this tutorial, we will define a task function $e(q)$ for the end-effector pose of a manipulator and solve the inverse geometry problem\n",
    "\n",
    "$$\n",
    "\\underset{q}{\\mathrm{minimize}}\\ e(q)\n",
    "$$\n",
    "\n",
    "using an off-the-shelf nonlinear optimizer that evaluates gradients by finite differences (slower), then a more efficient formulation using CasADi (faster)."
   ]
  },
  {
   "cell_type": "markdown",
   "metadata": {},
   "source": [
    "## Before we start...\n",
    "\n",
    "%load is a \"magic\" command of Jupyter. When we will invite you to think to a solution by yourselves, we will indicate it by the %do_not_load command. Feel free to transform it to a plain %load if you want the answer. This is define in the following import."
   ]
  },
  {
   "cell_type": "code",
   "execution_count": 1,
   "metadata": {},
   "outputs": [
    {
     "name": "stdout",
     "output_type": "stream",
     "text": [
      "NB: as for all the tutorials, a magic command %do_not_load is introduced to hide the solutions to some questions. Change it for %load if you want to see (and execute) the solution.\n"
     ]
    }
   ],
   "source": [
    "import magic_donotload"
   ]
  },
  {
   "cell_type": "markdown",
   "metadata": {},
   "source": [
    "Let's import everything we will need in this tutorial:"
   ]
  },
  {
   "cell_type": "code",
   "execution_count": 2,
   "metadata": {},
   "outputs": [],
   "source": [
    "# %load tp1/generated/invgeom_imports\n",
    "import time\n",
    "import unittest\n",
    "import casadi\n",
    "import tp1.meshcat_shapes as meshcat_shapes\n",
    "import example_robot_data as robex\n",
    "import meshcat\n",
    "import numpy as np\n",
    "import pinocchio as pin\n",
    "from numpy.linalg import norm\n",
    "from scipy.optimize import fmin_bfgs"
   ]
  },
  {
   "cell_type": "markdown",
   "metadata": {},
   "source": [
    "## Set up\n",
    "\n",
    "Let us start by loading the UR5 robot model from `example-robot-data` and define its neutral configuration as follows:"
   ]
  },
  {
   "cell_type": "code",
   "execution_count": 6,
   "metadata": {},
   "outputs": [],
   "source": [
    "# %load tp1/generated/invgeom_robot\n",
    "robot = robex.load(\"ur10\")\n",
    "robot.q0 = np.array([0, -np.pi / 2, 0, 0, 0, 0])\n",
    "model = robot.model\n",
    "data = robot.data"
   ]
  },
  {
   "cell_type": "markdown",
   "metadata": {},
   "source": [
    "We will also use the MeshCat visualizer to watch the optimization unfold. Let's set up a visualizer for our robot model:"
   ]
  },
  {
   "cell_type": "code",
   "execution_count": 7,
   "metadata": {},
   "outputs": [
    {
     "name": "stdout",
     "output_type": "stream",
     "text": [
      "You can open the visualizer by visiting the following URL:\n",
      "http://127.0.0.1:7001/static/\n"
     ]
    }
   ],
   "source": [
    "# %load tp1/generated/invgeom_visualizer\n",
    "viz = pin.visualize.MeshcatVisualizer(\n",
    "    robot.model, robot.collision_model, robot.visual_model\n",
    ")\n",
    "robot.setVisualizer(viz, init=False)\n",
    "viz.initViewer(open=False)\n",
    "viz.loadViewerModel()\n",
    "viz.display(robot.q0)"
   ]
  },
  {
   "cell_type": "code",
   "execution_count": 13,
   "metadata": {},
   "outputs": [],
   "source": [
    "viz.display(robot.q0*3)"
   ]
  },
  {
   "cell_type": "code",
   "execution_count": 8,
   "metadata": {},
   "outputs": [
    {
     "data": {
      "text/html": [
       "\n",
       "            <div style=\"height: 400px; width: 100%; overflow-x: auto; overflow-y: hidden; resize: both\">\n",
       "            <iframe src=\"http://127.0.0.1:7001/static/\" style=\"width: 100%; height: 100%; border: none\"></iframe>\n",
       "            </div>\n",
       "            "
      ],
      "text/plain": [
       "<IPython.core.display.HTML object>"
      ]
     },
     "execution_count": 8,
     "metadata": {},
     "output_type": "execute_result"
    }
   ],
   "source": [
    "viz.viewer.jupyter_cell()"
   ]
  },
  {
   "cell_type": "markdown",
   "metadata": {},
   "source": [
    "## Part 1: BFGS with finite difference\n",
    "\n",
    "In this first part, we will define an inverse geometry problem for the UR5 and use the BFGS optimizer from [`scipy.optimize.fmin_bfgs`](https://docs.scipy.org/doc/scipy/reference/generated/scipy.optimize.fmin_bfgs.html#scipy-optimize-fmin-bfgs) to solve it.\n",
    "\n",
    "### Task target\n",
    "\n",
    "Our task will be to move the end effector *frame* of the UR5 to a desired pose (pose := position + orientation). For this purpose, we define:\n",
    "\n",
    "- The name of the corresponding frame, which is ``\"tool0\"`` for the UR5.\n",
    "- The target pose of this frame, which we define by an affine transform ${}_{world} M_{target} \\in SE(3)$ (also known as a \"placement\").\n",
    "\n",
    "The robot will start from an arbitrary initial configuration (hint: to make the solver's life easier, avoid the singular $[0\\ 0\\ \\ldots\\ 0]$ configuration) $q_0$."
   ]
  },
  {
   "cell_type": "code",
   "execution_count": 9,
   "metadata": {},
   "outputs": [],
   "source": [
    "# %load tp1/generated/invgeom_task_params\n",
    "tool_id = model.getFrameId(\"tool0\")\n",
    "\n",
    "transform_target_to_world = pin.SE3(\n",
    "    pin.utils.rotate(\"x\", np.pi / 4),\n",
    "    np.array([-0.5, 0.1, 0.2]),\n",
    ")"
   ]
  },
  {
   "cell_type": "markdown",
   "metadata": {},
   "source": [
    "### Task error\n",
    "\n",
    "For a given robot configuration $q$, the end effector will be located at ${}_{world} M_{tool}(q)$, which is a function of $q$ we can compute with Pinocchio's forward kinematics function. The goal of our task will be to make ${}_{world} M_{tool}(q)$ coincide with ${}_{world} M_{target}$, which we can define mathematically as: minimize the (Lie-group) difference ${}_{world} M_{target} \\ominus {}_{world} M_{tool}(q)$, or equivalently:\n",
    "\n",
    "$$\n",
    "\\underset{q}{\\mathrm{minimize}} \\ e(q) := \\| {}_{world} M_{target} \\ominus {}_{world} M_{tool}(q) \\|\n",
    "$$\n",
    "\n",
    "Remember the definition of the $\\ominus$ (left) Lie-group difference? No? Let's write it in Python anyway!"
   ]
  },
  {
   "cell_type": "code",
   "execution_count": 10,
   "metadata": {},
   "outputs": [],
   "source": [
    "# %load tp1/generated/invgeom_error_function\n",
    "\n",
    "\n",
    "def error(q: np.ndarray) -> float:\n",
    "    \"\"\"Function that the final configuration should minimize.\"\"\"\n",
    "    pin.framesForwardKinematics(model, data, q)\n",
    "    transform_tool_to_world = data.oMf[tool_id]\n",
    "    return norm(\n",
    "        pin.log(transform_tool_to_world.inverse() * transform_target_to_world).vector\n",
    "    )"
   ]
  },
  {
   "cell_type": "markdown",
   "metadata": {},
   "source": [
    "### Sidetrack: visualization\n",
    "\n"
   ]
  },
  {
   "cell_type": "code",
   "execution_count": 11,
   "metadata": {},
   "outputs": [],
   "source": [
    "# %load tp1/generated/invgeom_visualizer_callback\n",
    "viewer = viz.viewer\n",
    "meshcat_shapes.frame(viewer[\"target\"], opacity=1.0)\n",
    "meshcat_shapes.frame(viewer[\"current\"], opacity=0.5)\n",
    "\n",
    "\n",
    "def callback(q: np.ndarray):\n",
    "    pin.framesForwardKinematics(model, data, q)\n",
    "    transform_frame_to_world = data.oMf[tool_id]\n",
    "    viewer[\"target\"].set_transform(transform_target_to_world.np)\n",
    "    viewer[\"current\"].set_transform(transform_frame_to_world.np)\n",
    "    viz.display(q)\n",
    "    time.sleep(1e-1)"
   ]
  },
  {
   "cell_type": "markdown",
   "metadata": {},
   "source": [
    "We are now ready to optimize for real!"
   ]
  },
  {
   "cell_type": "markdown",
   "metadata": {},
   "source": [
    "### BFGS optimization"
   ]
  },
  {
   "cell_type": "code",
   "execution_count": 19,
   "metadata": {
    "scrolled": true
   },
   "outputs": [
    {
     "name": "stdout",
     "output_type": "stream",
     "text": [
      "Warning: Desired error not necessarily achieved due to precision loss.\n",
      "         Current function value: 0.000000\n",
      "         Iterations: 70\n",
      "         Function evaluations: 985\n",
      "         Gradient evaluations: 139\n",
      "The robot finally reached effector placement at\n",
      "   R =\n",
      "           1 -2.85321e-09 -8.64161e-09\n",
      "-8.12807e-09    -0.707107    -0.707107\n",
      "-4.09302e-09     0.707107    -0.707107\n",
      "  p =     -0.5 0.165195 0.134805\n",
      "\n"
     ]
    }
   ],
   "source": [
    "# %load tp1/generated/invgeom_fmin_bfgs\n",
    "qguess = np.array([0.12, -2.2, -1.45, 1.82, -0.95, 0.17])\n",
    "qopt = fmin_bfgs(error, qguess, callback=callback)\n",
    "\n",
    "print(\n",
    "    \"The robot finally reached effector placement at\\n\",\n",
    "    robot.placement(qopt, 6),\n",
    ")"
   ]
  },
  {
   "cell_type": "markdown",
   "metadata": {},
   "source": [
    "If everything went well, our robot converged to a configuration $q$ that achieves the desired end effector placement, *i.e.* $e(q) \\approx 0 \\Leftrightarrow {}_{world} M_{target} \\approx {{}_{world} M_{tool}}(q)$."
   ]
  },
  {
   "cell_type": "markdown",
   "metadata": {},
   "source": [
    "## Part 2: IPOPT with automatic differentiation"
   ]
  },
  {
   "cell_type": "markdown",
   "metadata": {},
   "source": [
    "We wil now define our problem in [CasADi](https://web.casadi.org), a framework that allows us to formulate problems as computation graphs from which it can compute derivatives (notably first-order derivatives, *a.k.a.* gradients, and second-order derivatives, *a.k.a.* Hessians) automatically. This feature is called *automatic differentiation*."
   ]
  },
  {
   "cell_type": "markdown",
   "metadata": {},
   "source": [
    "### Modelling with CasADi\n",
    "\n",
    "Pinocchio, in the version 3 we are using in today's tutorial, provides a `pinocchio.casadi` interface to represent configurations (such as $q \\in \\mathcal{C}$ or $M \\in SE(3)$) in CasADi computation graphs, and differentiate them appropriately."
   ]
  },
  {
   "cell_type": "code",
   "execution_count": 20,
   "metadata": {},
   "outputs": [],
   "source": [
    "# %load tp1/generated/invgeom_casadi_imports\n",
    "import casadi\n",
    "from pinocchio import casadi as cpin"
   ]
  },
  {
   "cell_type": "markdown",
   "metadata": {},
   "source": [
    "CasADi being designed for Euclidean variables, differentiating properly over manifolds is not as straightforward as representing everything as matrices and vectors in $\\mathbb{R}^n$ and taking their usual derivatives. Pinocchio allows us to take derivatives over manifolds properly, without worrying about what happens below the surface. To be able to do that, we first need to redefine our model as a CasADi one:"
   ]
  },
  {
   "cell_type": "code",
   "execution_count": 21,
   "metadata": {},
   "outputs": [],
   "source": [
    "# %load tp1/generated/invgeom_casadi_model\n",
    "cmodel = cpin.Model(model)\n",
    "cdata = cmodel.createData()"
   ]
  },
  {
   "cell_type": "markdown",
   "metadata": {},
   "source": [
    "Our configuration variable $q$ is now a CasADi ``SX`` symbol of size $n_q$:"
   ]
  },
  {
   "cell_type": "code",
   "execution_count": 22,
   "metadata": {},
   "outputs": [],
   "source": [
    "# %load tp1/generated/invgeom_cq\n",
    "cq = casadi.SX.sym(\"q\", model.nq, 1)"
   ]
  },
  {
   "cell_type": "markdown",
   "metadata": {},
   "source": [
    "We complete the computation graph from ``cmodel`` to ``cq`` by calling the corresponding forward-kinematics function:"
   ]
  },
  {
   "cell_type": "code",
   "execution_count": 23,
   "metadata": {},
   "outputs": [],
   "source": [
    "# %load tp1/generated/invgeom_casadi_fk\n",
    "cpin.framesForwardKinematics(cmodel, cdata, cq)"
   ]
  },
  {
   "cell_type": "code",
   "execution_count": 37,
   "metadata": {},
   "outputs": [
    {
     "data": {
      "text/plain": [
       "SE3(SX(@1=cos(q_0), @2=4.89664e-12, @3=cos(q_1), @4=sin(q_1), @5=((@2*@3)-@4), @6=(@1*@5), @7=cos(q_2), @8=((@2*@4)+@3), @9=(@1*@8), @10=sin(q_2), @11=((@6*@7)-(@9*@10)), @12=cos(q_3), @13=sin(q_3), @14=((@2*@12)-@13), @15=((@6*@10)+(@9*@7)), @16=(@12+(@2*@13)), @17=((@11*@14)-(@15*@16)), @18=cos(q_4), @19=sin(q_0), @20=sin(q_4), @21=((@17*@18)-(@19*@20)), @22=cos(q_5), @23=((@2*@13)+@12), @24=((@2*@12)-@13), @25=((@11*@23)+(@15*@24)), @26=sin(q_5), @27=(@19*@5), @28=(@19*@8), @29=((@27*@7)-(@28*@10)), @30=((@27*@10)+(@28*@7)), @31=((@29*@14)-(@30*@16)), @32=((@31*@18)+(@1*@20)), @33=((@29*@23)+(@30*@24)), @34=(@3+(@2*@4)), @35=((@2*@3)-@4), @36=((@34*@7)+(@35*@10)), @37=((@35*@7)-(@34*@10)), @38=((@36*@14)+(@37*@16)), @39=(@38*@18), @40=((@37*@24)-(@36*@23)), @41=0, @42=((@17*@20)+(@19*@18)), @43=((@21*@26)+(@25*@22)), @44=((@1*@18)-(@31*@20)), @45=((@32*@26)+(@33*@22)), @46=(@38*@20), @47=((@40*@22)-(@39*@26)), @48=0.612, @49=-0.1719, @50=0.220941, @51=0.5723, @52=0.1149, @53=0.1157, @54=0.0922, [[((@21*@22)-(@25*@26)), (-((@2*@42)+@43)), ((@2*@43)-@42), (((((((@48*@9)-(@49*@19))-(@50*@19))+(@51*@15))-(@52*@19))+(@53*@25))-(@54*@42))],  [((@32*@22)-(@33*@26)), ((@2*@44)-@45), (@44+(@2*@45)), ((((((@50*@1)+((@49*@1)+(@48*@28)))+(@51*@30))+(@52*@1))+(@53*@33))+(@54*@44))],  [(-((@39*@22)+(@40*@26))), ((@2*@46)-@47), (@46+(@2*@47)), ((((0.1273+(@48*@35))+(@51*@37))+(@53*@40))+(@54*@46))],  [@41, @41, @41, 1]]))"
      ]
     },
     "execution_count": 37,
     "metadata": {},
     "output_type": "execute_result"
    }
   ],
   "source": [
    "cdata.oMf[tool_id]"
   ]
  },
  {
   "cell_type": "markdown",
   "metadata": {},
   "source": [
    "### Task error\n",
    "\n",
    "We define the same task error as above:\n",
    "\n",
    "$$\n",
    "\\underset{q}{\\mathrm{minimize}} \\ e(q) := \\| {}_{world} M_{target} \\ominus {}_{world} M_{tool}(q) \\|\n",
    "$$\n",
    "\n",
    "But this time as a CasADi function:"
   ]
  },
  {
   "cell_type": "code",
   "execution_count": null,
   "metadata": {},
   "outputs": [],
   "source": [
    "# %load tp1/generated/invgeom_casadi_error\n",
    "error_tool = casadi.Function(\n",
    "    \"etool\",\n",
    "    [cq],\n",
    "    [\n",
    "        cpin.log6(\n",
    "            cdata.oMf[tool_id].inverse() * cpin.SE3(transform_target_to_world)\n",
    "        ).vector\n",
    "    ],\n",
    ")"
   ]
  },
  {
   "cell_type": "code",
   "execution_count": 39,
   "metadata": {},
   "outputs": [
    {
     "data": {
      "text/plain": [
       "SX(@1=0, [-0.5, 0.173346, 0.150342, 0.785398, @1, @1])"
      ]
     },
     "execution_count": 39,
     "metadata": {},
     "output_type": "execute_result"
    }
   ],
   "source": [
    "cpin.log6(cpin.SE3(transform_target_to_world)).vector"
   ]
  },
  {
   "cell_type": "markdown",
   "metadata": {},
   "source": [
    "Finally, we define a computation graph from our optimization variable to our error function:"
   ]
  },
  {
   "cell_type": "code",
   "execution_count": 32,
   "metadata": {},
   "outputs": [],
   "source": [
    "# %load tp1/generated/invgeom_casadi_computation_graph\n",
    "opti = casadi.Opti()\n",
    "var_q = opti.variable(model.nq)\n",
    "totalcost = casadi.sumsqr(error_tool(var_q))"
   ]
  },
  {
   "cell_type": "code",
   "execution_count": 35,
   "metadata": {},
   "outputs": [
    {
     "data": {
      "text/plain": [
       "(6, 1)"
      ]
     },
     "execution_count": 35,
     "metadata": {},
     "output_type": "execute_result"
    }
   ],
   "source": [
    "var_q.shape"
   ]
  },
  {
   "cell_type": "markdown",
   "metadata": {},
   "source": [
    "### IPOPT optimization"
   ]
  },
  {
   "cell_type": "code",
   "execution_count": 57,
   "metadata": {},
   "outputs": [
    {
     "name": "stdout",
     "output_type": "stream",
     "text": [
      "This is Ipopt version 3.11.9, running with linear solver mumps.\n",
      "NOTE: Other linear solvers might be more efficient (see Ipopt documentation).\n",
      "\n",
      "Number of nonzeros in equality constraint Jacobian...:        0\n",
      "Number of nonzeros in inequality constraint Jacobian.:        0\n",
      "Number of nonzeros in Lagrangian Hessian.............:       21\n",
      "\n",
      "Total number of variables............................:        6\n",
      "                     variables with only lower bounds:        0\n",
      "                variables with lower and upper bounds:        0\n",
      "                     variables with only upper bounds:        0\n",
      "Total number of equality constraints.................:        0\n",
      "Total number of inequality constraints...............:        0\n",
      "        inequality constraints with only lower bounds:        0\n",
      "   inequality constraints with lower and upper bounds:        0\n",
      "        inequality constraints with only upper bounds:        0\n",
      "\n",
      "iter    objective    inf_pr   inf_du lg(mu)  ||d||  lg(rg) alpha_du alpha_pr  ls\n",
      "   0  9.8803989e+00 0.00e+00 6.07e+00  -1.0 0.00e+00    -  0.00e+00 0.00e+00   0\n",
      "   1  8.9453951e+00 0.00e+00 5.75e+00  -1.0 5.75e-02   2.0 1.00e+00 1.00e+00f  1\n",
      "   2  6.7751142e+00 0.00e+00 4.91e+00  -1.0 1.47e-01   1.5 1.00e+00 1.00e+00f  1\n",
      "   3  3.4894605e+00 0.00e+00 3.31e+00  -1.0 2.94e-01   1.0 1.00e+00 1.00e+00f  1\n",
      "   4  1.0346831e+00 0.00e+00 1.77e+00  -1.0 4.68e-01   0.6 1.00e+00 1.00e+00f  1\n",
      "   5  2.2006876e-01 0.00e+00 5.13e-01  -1.0 4.26e-01   0.1 1.00e+00 1.00e+00f  1\n",
      "   6  1.3750643e-01 0.00e+00 5.39e-02  -1.7 1.41e-01  -0.4 1.00e+00 1.00e+00f  1\n",
      "   7  1.3195303e-01 0.00e+00 1.36e-02  -2.5 9.52e-02  -0.9 1.00e+00 1.00e+00f  1\n",
      "   8  1.2792600e-01 0.00e+00 1.19e-02  -3.8 2.15e-01  -1.3 1.00e+00 1.00e+00f  1\n",
      "   9  9.8622996e-02 0.00e+00 2.05e-01  -3.8 1.10e+00  -1.8 1.00e+00 1.00e+00f  1\n",
      "iter    objective    inf_pr   inf_du lg(mu)  ||d||  lg(rg) alpha_du alpha_pr  ls\n",
      "  10  7.1480590e-02 0.00e+00 5.79e-02  -3.8 1.69e-01  -0.5 1.00e+00 1.00e+00f  1\n",
      "  11  9.6968786e-03 0.00e+00 1.18e-01  -3.8 5.72e-01  -1.0 1.00e+00 1.00e+00f  1\n",
      "  12  1.1927066e-04 0.00e+00 5.65e-03  -3.8 2.14e-01    -  1.00e+00 1.00e+00f  1\n",
      "  13  5.8822404e-08 0.00e+00 2.10e-04  -3.8 2.34e-02    -  1.00e+00 1.00e+00f  1\n",
      "  14  1.7268627e-15 0.00e+00 4.21e-08  -5.7 3.62e-04    -  1.00e+00 1.00e+00f  1\n",
      "  15  1.1760499e-29 0.00e+00 1.46e-15  -8.6 5.19e-08    -  1.00e+00 1.00e+00f  1\n",
      "\n",
      "Number of Iterations....: 15\n",
      "\n",
      "                                   (scaled)                 (unscaled)\n",
      "Objective...............:   1.1760498612408390e-29    1.1760498612408390e-29\n",
      "Dual infeasibility......:   1.4593597857827675e-15    1.4593597857827675e-15\n",
      "Constraint violation....:   0.0000000000000000e+00    0.0000000000000000e+00\n",
      "Complementarity.........:   0.0000000000000000e+00    0.0000000000000000e+00\n",
      "Overall NLP error.......:   1.4593597857827675e-15    1.4593597857827675e-15\n",
      "\n",
      "\n",
      "Number of objective function evaluations             = 16\n",
      "Number of objective gradient evaluations             = 16\n",
      "Number of equality constraint evaluations            = 0\n",
      "Number of inequality constraint evaluations          = 0\n",
      "Number of equality constraint Jacobian evaluations   = 0\n",
      "Number of inequality constraint Jacobian evaluations = 0\n",
      "Number of Lagrangian Hessian evaluations             = 15\n",
      "Total CPU secs in IPOPT (w/o function evaluations)   =      0.074\n",
      "Total CPU secs in NLP function evaluations           =      0.006\n",
      "\n",
      "EXIT: Optimal Solution Found.\n",
      "      solver  :   t_proc      (avg)   t_wall      (avg)    n_eval\n",
      "callback_fun  |  70.31ms (  4.39ms)   1.72 s (107.75ms)        16\n",
      "       nlp_f  | 354.00us ( 22.12us) 347.82us ( 21.74us)        16\n",
      "  nlp_grad_f  | 645.00us ( 37.94us) 647.79us ( 38.11us)        17\n",
      "  nlp_hess_l  |   5.48ms (365.67us)   5.49ms (366.30us)        15\n",
      "       total  |  97.94ms ( 97.94ms)   1.75 s (  1.75 s)         1\n"
     ]
    }
   ],
   "source": [
    "# %load tp1/generated/invgeom_ipopt\n",
    "opti.minimize(totalcost)\n",
    "opti.solver(\"ipopt\")  # select the backend solver\n",
    "opti.callback(lambda i: callback(opti.debug.value(var_q)))\n",
    "opti.set_initial(var_q,np.ones(6)*3)\n",
    "\n",
    "# Caution: in case the solver does not converge, we are picking the candidate values\n",
    "# at the last iteration in opti.debug, and they are NO guarantee of what they mean.\n",
    "try:\n",
    "    sol = opti.solve_limited()\n",
    "    sol_q = opti.value(var_q)\n",
    "except:\n",
    "    print(\"ERROR in convergence, plotting debug info.\")\n",
    "    sol_q = opti.debug.value(var_q)"
   ]
  },
  {
   "cell_type": "markdown",
   "metadata": {},
   "source": [
    "We can check that the solver converged to the same solution:"
   ]
  },
  {
   "cell_type": "code",
   "execution_count": 44,
   "metadata": {},
   "outputs": [
    {
     "name": "stdout",
     "output_type": "stream",
     "text": [
      "The robot finally reached effector placement at\n",
      "   R =\n",
      "           1  4.44089e-16 -1.66533e-16\n",
      "-2.77556e-16     0.707107    -0.707107\n",
      "-1.11022e-16     0.707107     0.707107\n",
      "  p = -0.5  0.1  0.2\n",
      "   R =\n",
      "        1         0         0\n",
      "        0  0.707107 -0.707107\n",
      "        0  0.707107  0.707107\n",
      "  p = -0.5  0.1  0.2\n",
      "\n"
     ]
    }
   ],
   "source": [
    "# %load tp1/generated/invgeom_check_final_placement\n",
    "pin.framesForwardKinematics(model,data,sol_q)\n",
    "\n",
    "print(\n",
    "    \"The robot finally reached effector placement at\\n\",\n",
    "    #robot.placement(sol_q, 6),\n",
    "    data.oMf[tool_id], transform_target_to_world\n",
    ")"
   ]
  },
  {
   "cell_type": "code",
   "execution_count": 42,
   "metadata": {},
   "outputs": [
    {
     "data": {
      "text/plain": [
       "array([ 3.88578059e-15,  3.27515792e-15, -2.24820162e-15, -4.44089210e-16,\n",
       "        1.66533454e-16,  2.74766180e-16])"
      ]
     },
     "execution_count": 42,
     "metadata": {},
     "output_type": "execute_result"
    }
   ],
   "source": [
    "opti.value(error_tool(var_q))"
   ]
  },
  {
   "cell_type": "markdown",
   "metadata": {},
   "source": [
    "To conclude, count the number of iterations and number of function/gradient evaluations. This is automatic differentiation \ud83e\udd20"
   ]
  },
  {
   "cell_type": "code",
   "execution_count": 28,
   "metadata": {},
   "outputs": [],
   "source": [
    "pin.framesForwardKinematics(model,data,sol_q)"
   ]
  },
  {
   "cell_type": "code",
   "execution_count": 30,
   "metadata": {},
   "outputs": [
    {
     "name": "stdout",
     "output_type": "stream",
     "text": [
      "  R =\n",
      "           1  4.44089e-16 -1.66533e-16\n",
      "-2.77556e-16     0.707107    -0.707107\n",
      "-1.11022e-16     0.707107     0.707107\n",
      "  p = -0.5  0.1  0.2\n",
      "\n"
     ]
    }
   ],
   "source": [
    "print(data.oMf[tool_id])"
   ]
  },
  {
   "cell_type": "code",
   "execution_count": 31,
   "metadata": {},
   "outputs": [
    {
     "name": "stdout",
     "output_type": "stream",
     "text": [
      "  R =\n",
      "           1 -1.66533e-16 -4.44089e-16\n",
      "-2.77556e-16    -0.707107    -0.707107\n",
      "-1.11022e-16     0.707107    -0.707107\n",
      "  p =     -0.5 0.165195 0.134805\n",
      "\n"
     ]
    }
   ],
   "source": [
    "print(data.oMi[6])"
   ]
  },
  {
   "cell_type": "code",
   "execution_count": 51,
   "metadata": {},
   "outputs": [],
   "source": [
    "viz.display(qopt)"
   ]
  },
  {
   "cell_type": "code",
   "execution_count": 52,
   "metadata": {},
   "outputs": [],
   "source": [
    "viz.display(sol_q)"
   ]
  },
  {
   "cell_type": "code",
   "execution_count": null,
   "metadata": {},
   "outputs": [],
   "source": []
  },
  {
   "cell_type": "code",
   "execution_count": 55,
   "metadata": {},
   "outputs": [],
   "source": []
  },
  {
   "cell_type": "code",
   "execution_count": null,
   "metadata": {},
   "outputs": [],
   "source": []
  }
 ],
 "metadata": {
  "kernelspec": {
   "display_name": "Python 3 (ipykernel)",
   "language": "python",
   "name": "python3"
  },
  "language_info": {
   "codemirror_mode": {
    "name": "ipython",
    "version": 3
   },
   "file_extension": ".py",
   "mimetype": "text/x-python",
   "name": "python",
   "nbconvert_exporter": "python",
   "pygments_lexer": "ipython3",
   "version": "3.10.14"
  }
 },
 "nbformat": 4,
 "nbformat_minor": 4
}