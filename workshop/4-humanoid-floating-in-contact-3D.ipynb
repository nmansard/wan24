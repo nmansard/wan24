{
 "cells": [
  {
   "cell_type": "markdown",
   "id": "83a8f205-5196-40b6-bff7-f58bf12b619c",
   "metadata": {},
   "source": [
    "# A complete view of Crocoddyl Pinocchio front-end\n",
    "This notebook presents a complete movement optimized for a humanoid robot in various contact states.\n",
    "We use the Differential Action Model (DAM) floating in contact, with two 6D contacts between the robot feet and the ground. \n",
    "The problem is then optimized with FDDP from a simple initial guess."
   ]
  },
  {
   "cell_type": "markdown",
   "id": "a441b90d-728e-46db-8737-5386e2f32648",
   "metadata": {},
   "source": [
    "## Setup"
   ]
  },
  {
   "cell_type": "code",
   "execution_count": 134,
   "id": "f2de29a4-be56-44d0-bb38-bf8433dcb168",
   "metadata": {},
   "outputs": [],
   "source": [
    "import gepetuto.magic"
   ]
  },
  {
   "cell_type": "markdown",
   "id": "ab004f59-9006-4021-b05b-2f8e7510611f",
   "metadata": {},
   "source": [
    "For this notebook, with need Crocoddyl 2 with Pinocchio 2 or 3, and Meshcat for display, nothing else."
   ]
  },
  {
   "cell_type": "code",
   "execution_count": 135,
   "id": "accf5591-2b3c-4234-965e-85feb2c16b35",
   "metadata": {},
   "outputs": [],
   "source": [
    "# %load tp4/generated/humanoid_taichi_import\n",
    "import example_robot_data as robex\n",
    "import numpy as np\n",
    "import pinocchio\n",
    "import crocoddyl\n"
   ]
  },
  {
   "cell_type": "markdown",
   "id": "b63880c5-4fa1-407e-b5b0-865fed48a92c",
   "metadata": {},
   "source": [
    "## Load robot and prepare the problem"
   ]
  },
  {
   "cell_type": "markdown",
   "id": "f800f698-4113-4f27-a5f4-e2fb8c675783",
   "metadata": {},
   "source": [
    "The robot is classically loaded from example-robot-data. We use Talos."
   ]
  },
  {
   "cell_type": "code",
   "execution_count": 136,
   "id": "9870f4e1-85b1-4098-8297-229baea4f1a6",
   "metadata": {},
   "outputs": [],
   "source": [
    "# %load tp4/generated/humanoid_taichi_loadrobot\n",
    "# ### Load robot\n",
    "robot = robex.load(\"talos\")\n",
    "robot_model = robot.model\n",
    "# The robot data will be used at config time to define some values of the OCP\n",
    "robot_data = robot_model.createData()\n"
   ]
  },
  {
   "cell_type": "markdown",
   "id": "46d6cdbe-3b7c-412e-94a4-bb4e6483d6f0",
   "metadata": {},
   "source": [
    "The movement will feature the hand reaching a target, both feet first in contact, then one foot leaving contact to reach succesively two targets. The COM must stay fixed during the movement. Let's define the quantities for that."
   ]
  },
  {
   "cell_type": "code",
   "execution_count": 137,
   "id": "85c148da-3091-494e-ab75-d36d6e008e5a",
   "metadata": {},
   "outputs": [],
   "source": [
    "# %load tp4/generated/humanoid_taichi_hyperparameters\n",
    "# ### Hyperparameters\n",
    "\n",
    "# Set integration time\n",
    "DT = 5e-2\n",
    "T = 40\n",
    "\n",
    "# Initialize reference state, target and reference CoM\n",
    "\n",
    "hand_frameName = \"gripper_left_joint\"\n",
    "rightFoot_frameName = \"right_sole_link\"\n",
    "leftFoot_frameName = \"left_sole_link\"\n",
    "\n",
    "# Main frame Ids\n",
    "hand_id = robot_model.getFrameId(hand_frameName)\n",
    "rightFoot_id = robot_model.getFrameId(rightFoot_frameName)\n",
    "leftFoot_id = robot_model.getFrameId(leftFoot_frameName)\n",
    "\n",
    "# Init state\n",
    "q0 = robot_model.referenceConfigurations[\"half_sitting\"]\n",
    "x0 = np.concatenate([q0, np.zeros(robot_model.nv)])\n",
    "\n",
    "# Reference quantities\n",
    "pinocchio.framesForwardKinematics(robot_model, robot_data, q0)\n",
    "comRef = (robot_data.oMf[rightFoot_id].translation + robot_data.oMf[leftFoot_id].translation) / 2\n",
    "comRef[2] = pinocchio.centerOfMass(robot_model, robot_data, q0)[2].item()\n",
    "\n",
    "in_world_M_foot_target_1 = pinocchio.SE3(pinocchio.utils.rpyToMatrix(0,np.pi/4,0), np.array([0.0, 0.1, 0.0]))\n",
    "in_world_M_foot_target_2 =  pinocchio.SE3(np.eye(3), np.array([0.3, 0.3, 0.35]))\n",
    "in_world_M_hand_target = pinocchio.SE3(np.eye(3), np.array([0.4, 0, 1.2]))\n"
   ]
  },
  {
   "cell_type": "markdown",
   "id": "5e6377e9-7a6c-4ab7-84fb-eb6b90b24353",
   "metadata": {},
   "source": [
    "## Action models"
   ]
  },
  {
   "cell_type": "markdown",
   "id": "866a722e-688e-46ba-8ada-d43e029b8acd",
   "metadata": {},
   "source": [
    "We define the smaller models first (state, actuation, contacts, costs) and finish with the DAM and action models."
   ]
  },
  {
   "cell_type": "markdown",
   "id": "4fe77aab-bde9-44ca-9c62-c907a19c6fe3",
   "metadata": {},
   "source": [
    "### State and action models "
   ]
  },
  {
   "cell_type": "markdown",
   "id": "fbfbd42c-4d8f-4413-ae61-9e42a9e432c9",
   "metadata": {},
   "source": [
    "The state model is classical for legged robots: the state \"multibody\" defines $x$ to be $x=(q,v_q)$.\n",
    "The actuation model is also classical: the joint torques are 0 for the free-flyer part, and $u$ for the rest, $\\tau_q = (0_6,u)$"
   ]
  },
  {
   "cell_type": "code",
   "execution_count": 138,
   "id": "11d13a99-011e-432b-881e-4aff89261e01",
   "metadata": {},
   "outputs": [],
   "source": [
    "# %load tp4/generated/humanoid_taichi_state\n",
    "state = crocoddyl.StateMultibody(robot_model)\n",
    "actuation = crocoddyl.ActuationModelFloatingBase(state)\n"
   ]
  },
  {
   "cell_type": "markdown",
   "id": "dc811d4d-1247-4d5b-8f9a-e7449c107d13",
   "metadata": {},
   "source": [
    "### Contact models"
   ]
  },
  {
   "cell_type": "markdown",
   "id": "1b0101c3-870a-4616-be9c-ff425840da98",
   "metadata": {},
   "source": [
    "We define one contact model per foot (right, and left). These are then used to define the full configuration mode for each timestep. In this example, the first timesteps are in double contact (right and left together); the final timesteps are in single contact (right only, left foot in the air)."
   ]
  },
  {
   "cell_type": "code",
   "execution_count": 139,
   "id": "0191895c-304d-4a45-852f-2e8e148b01cf",
   "metadata": {},
   "outputs": [
    {
     "name": "stdout",
     "output_type": "stream",
     "text": [
      "Frame name: left_sole_link paired to (parent joint/ parent frame)(7/15)\n",
      "with relative placement wrt parent joint:\n",
      "  R =\n",
      "1 0 0\n",
      "0 1 0\n",
      "0 0 1\n",
      "  p =      0      0 -0.107\n",
      "containing inertia:\n",
      "  m = 0\n",
      "  c = 0 0 0\n",
      "  I = \n",
      "0 0 0\n",
      "0 0 0\n",
      "0 0 0\n",
      " Frame name: Left_sole_2 paired to (parent joint/ parent frame)(7/15)\n",
      "with relative placement wrt parent joint:\n",
      "  R =\n",
      "1 0 0\n",
      "0 1 0\n",
      "0 0 1\n",
      "  p =      0   0.03 -0.107\n",
      "containing inertia:\n",
      "  m = 0\n",
      "  c = 0 0 0\n",
      "  I = \n",
      "0 0 0\n",
      "0 0 0\n",
      "0 0 0\n",
      "\n"
     ]
    }
   ],
   "source": [
    "# %load tp4/generated/humanoid_taichi_contacts\n",
    "# ### Contact model\n",
    "# Create two contact models used along the motion\n",
    "supportContactModelLeft = crocoddyl.ContactModel3D(\n",
    "    state,\n",
    "    leftFoot_id,\n",
    "    pinocchio.SE3.Identity().translation,\n",
    "    pinocchio.LOCAL,\n",
    "    actuation.nu,\n",
    "    np.array([0, 40]),\n",
    ")\n",
    "placement_left = robot_model.frames[leftFoot_id].placement.copy()\n",
    "placement_left.translation[1] = 0.03\n",
    "frame = pinocchio.Frame(\"Left_sole_2\", 7, 15, placement_left, robot_model.frames[leftFoot_id].type)\n",
    "robot_model.addFrame(frame)\n",
    "left_point_other_id = robot_model.getFrameId(\"Left_sole_2\")\n",
    "other_frame_name = \"Left_sole_2\"\n",
    "\n",
    "print(robot_model.frames[leftFoot_id], robot_model.frames[left_point_other_id])\n",
    "\n",
    "supportContactModelRight = crocoddyl.ContactModel6D(\n",
    "    state,\n",
    "    rightFoot_id,\n",
    "    pinocchio.SE3.Identity(),\n",
    "    pinocchio.LOCAL,\n",
    "    actuation.nu,\n",
    "    np.array([0, 40]),\n",
    ")\n",
    "\n",
    "supportContactModelLeft_2 = crocoddyl.ContactModel3D(\n",
    "    state,\n",
    "    left_point_other_id,\n",
    "    pinocchio.SE3.Identity().translation,\n",
    "    pinocchio.LOCAL,\n",
    "    actuation.nu,\n",
    "    np.array([0, 40]),\n",
    ")\n",
    "\n",
    "contactModel1Foot = crocoddyl.ContactModelMultiple(state, actuation.nu)\n",
    "contactModel1Foot.addContact(rightFoot_frameName + \"_contact\", supportContactModelRight)\n",
    "\n",
    "contactModel2Feet = crocoddyl.ContactModelMultiple(state, actuation.nu)\n",
    "contactModel2Feet.addContact(leftFoot_frameName + \"_contact\", supportContactModelLeft)\n",
    "contactModel2Feet.addContact(rightFoot_frameName + \"_contact\", supportContactModelRight)\n",
    "contactModel2Feet.addContact(other_frame_name + \"_contact\", supportContactModelLeft_2)\n"
   ]
  },
  {
   "cell_type": "markdown",
   "id": "cf10a5b3-78bc-4a19-b6eb-abe73850ce78",
   "metadata": {},
   "source": [
    "### Cost models"
   ]
  },
  {
   "cell_type": "markdown",
   "id": "e0da4b44-b33e-4f42-b2c8-7ef5f52ee228",
   "metadata": {},
   "source": [
    "We define costs for the state and control regularization, hand and left foot targets, COM no-motion, and to limit the range of motion (as a soft penalty)."
   ]
  },
  {
   "cell_type": "code",
   "execution_count": 140,
   "id": "4cdec9ae-3d0f-40f3-a607-2c8613b9d273",
   "metadata": {},
   "outputs": [],
   "source": [
    "# %load tp4/generated/humanoid_taichi_costs\n",
    "# ### Cost model\n",
    "# Cost for joint limits\n",
    "maxfloat = 1e25\n",
    "xlb = np.concatenate(\n",
    "    [\n",
    "        -maxfloat * np.ones(6),  # dimension of the SE(3) manifold\n",
    "        robot_model.lowerPositionLimit[7:],\n",
    "        -maxfloat * np.ones(state.nv),\n",
    "    ]\n",
    ")\n",
    "xub = np.concatenate(\n",
    "    [\n",
    "        maxfloat * np.ones(6),  # dimension of the SE(3) manifold\n",
    "        robot_model.upperPositionLimit[7:],\n",
    "        maxfloat * np.ones(state.nv),\n",
    "    ]\n",
    ")\n",
    "bounds = crocoddyl.ActivationBounds(xlb, xub, 1.0)\n",
    "xLimitResidual = crocoddyl.ResidualModelState(state, x0, actuation.nu)\n",
    "xLimitActivation = crocoddyl.ActivationModelQuadraticBarrier(bounds)\n",
    "limitCost = crocoddyl.CostModelResidual(state, xLimitActivation, xLimitResidual)\n",
    "\n",
    "# Cost for state and control\n",
    "xResidual = crocoddyl.ResidualModelState(state, x0, actuation.nu)\n",
    "xActivation = crocoddyl.ActivationModelWeightedQuad(\n",
    "    np.array([0] * 3 + [10.0] * 3 + [0.01] * (state.nv - 6) + [10] * state.nv) ** 2\n",
    ")\n",
    "uResidual = crocoddyl.ResidualModelControl(state, actuation.nu)\n",
    "xTActivation = crocoddyl.ActivationModelWeightedQuad(\n",
    "    np.array([0] * 3 + [10.0] * 3 + [0.01] * (state.nv - 6) + [100] * state.nv) ** 2\n",
    ")\n",
    "xRegCost = crocoddyl.CostModelResidual(state, xActivation, xResidual)\n",
    "uRegCost = crocoddyl.CostModelResidual(state, uResidual)\n",
    "xRegTermCost = crocoddyl.CostModelResidual(state, xTActivation, xResidual)\n",
    "\n",
    "# Cost for target reaching: hand and foot\n",
    "handTrackingResidual = crocoddyl.ResidualModelFramePlacement(\n",
    "    state, hand_id, in_world_M_hand_target, actuation.nu\n",
    ")\n",
    "handTrackingActivation = crocoddyl.ActivationModelWeightedQuad(\n",
    "    np.array([1] * 3 + [0.0001] * 3) ** 2\n",
    ")\n",
    "handTrackingCost = crocoddyl.CostModelResidual(\n",
    "    state, handTrackingActivation, handTrackingResidual\n",
    ")\n",
    "\n",
    "# For the flying foot, we define two targets to successively reach\n",
    "footTrackingResidual1 = crocoddyl.ResidualModelFramePlacement(\n",
    "    state, leftFoot_id, in_world_M_foot_target_1, actuation.nu\n",
    ")\n",
    "footTrackingActivation = crocoddyl.ActivationModelWeightedQuad(\n",
    "    np.array([1, 1, 0.1] + [1.0] * 3) ** 2\n",
    ")\n",
    "footTrackingCost1 = crocoddyl.CostModelResidual(\n",
    "    state, footTrackingActivation, footTrackingResidual1\n",
    ")\n",
    "footTrackingResidual2 = crocoddyl.ResidualModelFramePlacement(\n",
    "    state,\n",
    "    leftFoot_id,\n",
    "    in_world_M_foot_target_2,\n",
    "    actuation.nu,\n",
    ")\n",
    "footTrackingCost2 = crocoddyl.CostModelResidual(\n",
    "    state, footTrackingActivation, footTrackingResidual2\n",
    ")\n",
    "\n",
    "# Cost for CoM reference\n",
    "comResidual = crocoddyl.ResidualModelCoMPosition(state, comRef, actuation.nu)\n",
    "comTrack = crocoddyl.CostModelResidual(state, comResidual)\n"
   ]
  },
  {
   "cell_type": "markdown",
   "id": "fca37772-17ea-4146-bc9a-95bb40bc4d8e",
   "metadata": {},
   "source": [
    "### Action models"
   ]
  },
  {
   "cell_type": "markdown",
   "id": "66491f56-622d-47ae-a192-7fb78689ed5c",
   "metadata": {},
   "source": [
    "We define an action model for each phase of the motion. There are 3 phases, plus a terminal model. For each, we first define a DAM (from costs and contacts), then the integral action model."
   ]
  },
  {
   "cell_type": "code",
   "execution_count": 141,
   "id": "410ad2b5-8518-4c0f-be0a-d0846c3f0c9c",
   "metadata": {},
   "outputs": [],
   "source": [
    "# %load tp4/generated/humanoid_taichi_actions\n",
    "# Create cost model per each action model. We divide the motion in 3 phases plus its\n",
    "# terminal model.\n",
    "\n",
    "# Phase 1: two feet in contact, hand reach the target\n",
    "runningCostModel1 = crocoddyl.CostModelSum(state, actuation.nu)\n",
    "runningCostModel1.addCost(\"gripperPose\", handTrackingCost, 1e2)\n",
    "runningCostModel1.addCost(\"stateReg\", xRegCost, 1e-3)\n",
    "runningCostModel1.addCost(\"ctrlReg\", uRegCost, 1e-4)\n",
    "dmodelRunning1 = crocoddyl.DifferentialActionModelContactFwdDynamics(\n",
    "    state, actuation, contactModel2Feet, runningCostModel1\n",
    ")\n",
    "runningModel1 = crocoddyl.IntegratedActionModelEuler(dmodelRunning1, DT)\n",
    "\n",
    "# Phase 2: only right foot in contact, hand stays on target, left foot to target 1\n",
    "runningCostModel2 = crocoddyl.CostModelSum(state, actuation.nu)\n",
    "runningCostModel2.addCost(\"gripperPose\", handTrackingCost, 1e2)\n",
    "runningCostModel2.addCost(\"footPose\", footTrackingCost1, 1e1)\n",
    "runningCostModel2.addCost(\"stateReg\", xRegCost, 1e-3)\n",
    "runningCostModel2.addCost(\"ctrlReg\", uRegCost, 1e-4)\n",
    "dmodelRunning2 = crocoddyl.DifferentialActionModelContactFwdDynamics(\n",
    "    state, actuation, contactModel2Feet, runningCostModel2\n",
    ")\n",
    "runningModel2 = crocoddyl.IntegratedActionModelEuler(dmodelRunning2, DT)\n",
    "\n",
    "# Phase 3: only right foot in contact, hand stays on target, left foot to target 2\n",
    "runningCostModel3 = crocoddyl.CostModelSum(state, actuation.nu)\n",
    "runningCostModel3.addCost(\"gripperPose\", handTrackingCost, 1e2)\n",
    "runningCostModel3.addCost(\"footPose\", footTrackingCost2, 1e1)\n",
    "runningCostModel3.addCost(\"stateReg\", xRegCost, 1e-3)\n",
    "runningCostModel3.addCost(\"ctrlReg\", uRegCost, 1e-4)\n",
    "dmodelRunning3 = crocoddyl.DifferentialActionModelContactFwdDynamics(\n",
    "    state, actuation, contactModel1Foot, runningCostModel3\n",
    ")\n",
    "runningModel3 = crocoddyl.IntegratedActionModelEuler(dmodelRunning3, DT)\n",
    "\n",
    "# Terminal cost: nothing specific\n",
    "terminalCostModel = crocoddyl.CostModelSum(state, actuation.nu)\n",
    "terminalCostModel.addCost(\"gripperPose\", handTrackingCost, 1e2)\n",
    "terminalCostModel.addCost(\"stateReg\", xRegTermCost, 1e-3)\n",
    "dmodelTerminal = crocoddyl.DifferentialActionModelContactFwdDynamics(\n",
    "    state, actuation, contactModel1Foot, terminalCostModel\n",
    ")\n",
    "terminalModel = crocoddyl.IntegratedActionModelEuler(dmodelTerminal, 0)\n"
   ]
  },
  {
   "cell_type": "markdown",
   "id": "d65db2c1-ff92-4386-94bc-0350d8cdafda",
   "metadata": {},
   "source": [
    "## Write problem and solve"
   ]
  },
  {
   "cell_type": "markdown",
   "id": "8423b9c0-eeba-4305-9d4a-5bbc223bc099",
   "metadata": {},
   "source": [
    "### Write the OCP problem and create the solve."
   ]
  },
  {
   "cell_type": "markdown",
   "id": "f8fa0f1d-5148-491c-9226-a0190a343a05",
   "metadata": {},
   "source": [
    "The OCP is simply the collection of action models."
   ]
  },
  {
   "cell_type": "code",
   "execution_count": 142,
   "id": "355403f7-3755-4789-920c-fd3f20bf02c4",
   "metadata": {},
   "outputs": [],
   "source": [
    "# %load tp4/generated/humanoid_taichi_problem_and_solver\n",
    "problem = crocoddyl.ShootingProblem(\n",
    "    x0, [runningModel1] * T + [runningModel2] * T + [runningModel3] * T, terminalModel\n",
    ")\n",
    "\n",
    "# Creating the DDP solver for this OC problem, defining a logger\n",
    "solver = crocoddyl.SolverFDDP(problem)\n",
    "solver.th_stop = 1e-7\n",
    "solver.setCallbacks(\n",
    "    [\n",
    "        crocoddyl.CallbackVerbose(),\n",
    "        crocoddyl.CallbackLogger(),\n",
    "    ]\n",
    ")\n"
   ]
  },
  {
   "cell_type": "markdown",
   "id": "6ada3686-176b-416d-9980-2072fd7fd4eb",
   "metadata": {},
   "source": [
    "### and solve ..."
   ]
  },
  {
   "cell_type": "markdown",
   "id": "fcb812eb-d388-46ab-b01d-300e58b9ddbf",
   "metadata": {},
   "source": [
    "We solve from a nontrivial (but simple) initial trajectory. The states are chosen constant equal to the initial state. The control are compensating the gravity."
   ]
  },
  {
   "cell_type": "code",
   "execution_count": 143,
   "id": "0c8880f9-9e1d-4e62-a21b-41661e4b7720",
   "metadata": {},
   "outputs": [
    {
     "name": "stdout",
     "output_type": "stream",
     "text": [
      "iter    cost       merit      stop       grad       preg       dreg      step   ||ffeas||  ||gfeas||  ||hfeas||   dV-exp       dV      dPhi-exp     dPhi\n",
      "   0  1.830e+02  0.000e+00  1.036e-309 -6.906e-310  1.000e-08  1.000e-08  0.0020  6.530e+01  0.000e+00  0.000e+00  0.000e+00  0.000e+00  0.000e+00  0.000e+00\n",
      "   1  1.830e+02  0.000e+00  0.000e+00 -1.666e+27  1.000e-07  1.000e-07  0.0020  6.530e+01  0.000e+00  0.000e+00  0.000e+00  0.000e+00  0.000e+00  0.000e+00\n",
      "   2  1.830e+02  0.000e+00  0.000e+00 -5.319e+22  1.000e-06  1.000e-06  0.0020  6.530e+01  0.000e+00  0.000e+00  0.000e+00  0.000e+00  0.000e+00  0.000e+00\n",
      "   3  1.830e+02  0.000e+00  0.000e+00 -3.154e+25  1.000e-05  1.000e-05  0.0020  6.530e+01  0.000e+00  0.000e+00  0.000e+00  0.000e+00  0.000e+00  0.000e+00\n",
      "   4  1.830e+02  0.000e+00  5.120e+02  7.274e+18  1.000e-04  1.000e-04  0.0020  6.530e+01  0.000e+00  0.000e+00  0.000e+00  0.000e+00  0.000e+00  0.000e+00\n",
      "   5  1.830e+02  0.000e+00  0.000e+00 -7.816e+30  1.000e-03  1.000e-03  0.0020  6.530e+01  0.000e+00  0.000e+00  0.000e+00  0.000e+00  0.000e+00  0.000e+00\n",
      "   6  1.830e+02  0.000e+00  0.000e+00  3.933e+25  1.000e-02  1.000e-02  0.0020  6.530e+01  0.000e+00  0.000e+00  0.000e+00  0.000e+00  0.000e+00  0.000e+00\n",
      "   7  1.830e+02  0.000e+00  0.000e+00 -4.087e+31  1.000e-01  1.000e-01  0.0020  6.530e+01  0.000e+00  0.000e+00  0.000e+00  0.000e+00  0.000e+00  0.000e+00\n",
      "   8  1.830e+02  0.000e+00  0.000e+00 -3.484e+32  1.000e+00  1.000e+00  0.0020  6.530e+01  0.000e+00  0.000e+00  0.000e+00  0.000e+00  0.000e+00  0.000e+00\n",
      "   9  1.830e+02  0.000e+00  0.000e+00 -3.515e+33  1.000e+01  1.000e+01  0.0020  6.530e+01  0.000e+00  0.000e+00  0.000e+00  0.000e+00  0.000e+00  0.000e+00\n",
      "iter    cost       merit      stop       grad       preg       dreg      step   ||ffeas||  ||gfeas||  ||hfeas||   dV-exp       dV      dPhi-exp     dPhi\n",
      "  10  1.830e+02  0.000e+00  0.000e+00 -3.530e+34  1.000e+02  1.000e+02  0.0020  6.530e+01  0.000e+00  0.000e+00  0.000e+00  0.000e+00  0.000e+00  0.000e+00\n",
      "  11  1.830e+02  0.000e+00  0.000e+00 -3.535e+35  1.000e+03  1.000e+03  0.0020  6.530e+01  0.000e+00  0.000e+00  0.000e+00  0.000e+00  0.000e+00  0.000e+00\n",
      "  12  1.830e+02  0.000e+00  0.000e+00 -1.494e+37  1.000e+04  1.000e+04  0.0020  6.530e+01  0.000e+00  0.000e+00  0.000e+00  0.000e+00  0.000e+00  0.000e+00\n",
      "  13  1.830e+02  0.000e+00  0.000e+00 -1.494e+38  1.000e+05  1.000e+05  0.0020  6.530e+01  0.000e+00  0.000e+00  0.000e+00  0.000e+00  0.000e+00  0.000e+00\n",
      "  14  1.830e+02  0.000e+00  0.000e+00 -2.194e+36  1.000e+06  1.000e+06  0.0020  6.530e+01  0.000e+00  0.000e+00  0.000e+00  0.000e+00  0.000e+00  0.000e+00\n",
      "  15  1.830e+02  0.000e+00  0.000e+00 -2.155e+38  1.000e+07  1.000e+07  0.0020  6.530e+01  0.000e+00  0.000e+00  0.000e+00  0.000e+00  0.000e+00  0.000e+00\n",
      "  16  1.830e+02  0.000e+00  0.000e+00 -2.155e+39  1.000e+08  1.000e+08  0.0020  6.530e+01  0.000e+00  0.000e+00  0.000e+00  0.000e+00  0.000e+00  0.000e+00\n"
     ]
    },
    {
     "data": {
      "text/plain": [
       "False"
      ]
     },
     "execution_count": 143,
     "metadata": {},
     "output_type": "execute_result"
    }
   ],
   "source": [
    "# %load tp4/generated/humanoid_taichi_solve\n",
    "# ### Warm start from quasistatic solutions\n",
    "xs = [x0] * (solver.problem.T + 1)\n",
    "us = solver.problem.quasiStatic([x0] * solver.problem.T)\n",
    "solver.solve(xs, us, 500, False, 1e-9)\n"
   ]
  },
  {
   "cell_type": "markdown",
   "id": "c7435a02-94dc-435a-a536-5eaf0e1fc948",
   "metadata": {},
   "source": [
    "### Display to finish"
   ]
  },
  {
   "cell_type": "code",
   "execution_count": 144,
   "id": "16e0e0ac-5157-4059-bd9e-e61b2b68e56d",
   "metadata": {},
   "outputs": [
    {
     "name": "stdout",
     "output_type": "stream",
     "text": [
      "You can open the visualizer by visiting the following URL:\n",
      "http://127.0.0.1:7018/static/\n"
     ]
    }
   ],
   "source": [
    "# %load tp4/generated/humanoid_taichi_init_display\n",
    "# ### DISPLAY\n",
    "# Initialize viewer\n",
    "from wan2024.meshcat_viewer_wrapper import MeshcatVisualizer\n",
    "viz = MeshcatVisualizer(robot)\n",
    "viz.display(robot.q0)\n",
    "viz.addBox('world/foot1',[.1,.1,.1],[0,1,0,1])\n",
    "viz.applyConfiguration('world/foot1', in_world_M_foot_target_1)\n",
    "\n",
    "viz.addBox('world/hand',[.1,.1,.1],'blue')\n",
    "viz.applyConfiguration('world/hand', in_world_M_hand_target)\n",
    "\n",
    "viz.addBox('world/foot2',[.1,.1,.1],'red')\n",
    "viz.applyConfiguration('world/foot2', in_world_M_foot_target_2)\n",
    "\n"
   ]
  },
  {
   "cell_type": "code",
   "execution_count": 145,
   "id": "c9a46df0-35c0-486b-ab96-9977492ae1df",
   "metadata": {},
   "outputs": [
    {
     "data": {
      "text/html": [
       "\n",
       "            <div style=\"height: 400px; width: 100%; overflow-x: auto; overflow-y: hidden; resize: both\">\n",
       "            <iframe src=\"http://127.0.0.1:7018/static/\" style=\"width: 100%; height: 100%; border: none\"></iframe>\n",
       "            </div>\n",
       "            "
      ],
      "text/plain": [
       "<IPython.core.display.HTML object>"
      ]
     },
     "execution_count": 145,
     "metadata": {},
     "output_type": "execute_result"
    }
   ],
   "source": [
    "viz.viewer.jupyter_cell()"
   ]
  },
  {
   "cell_type": "code",
   "execution_count": 147,
   "id": "ed84f4aa-df55-4f31-9e69-d527818a21c2",
   "metadata": {},
   "outputs": [],
   "source": [
    "# %load tp4/generated/humanoid_taichi_display\n",
    "viz.play([x[:robot.model.nq] for x in solver.xs],DT)\n"
   ]
  },
  {
   "cell_type": "code",
   "execution_count": null,
   "id": "f6b5f352",
   "metadata": {},
   "outputs": [],
   "source": []
  }
 ],
 "metadata": {
  "kernelspec": {
   "display_name": "Python 3 (ipykernel)",
   "language": "python",
   "name": "python3"
  },
  "language_info": {
   "codemirror_mode": {
    "name": "ipython",
    "version": 3
   },
   "file_extension": ".py",
   "mimetype": "text/x-python",
   "name": "python",
   "nbconvert_exporter": "python",
   "pygments_lexer": "ipython3",
   "version": "3.10.14"
  }
 },
 "nbformat": 4,
 "nbformat_minor": 5
}
