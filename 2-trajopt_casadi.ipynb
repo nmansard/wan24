{
 "cells": [
  {
   "cell_type": "markdown",
   "metadata": {},
   "source": [
    "# First trajectory-optimization problems\n",
    "This notebook drives you through simple trajectory optimization problems, considering only \"kinematic\" version i.e only motion variables (no forces or torques yet). \n",
    "We will first look at a problem where the trajectory is described by a sequence of configurations $[q_0 ... q_T]$, with the only constraints is to have them sufficiently closed to each other.\n",
    "The we will look at a real integration, where each timestep is described by a configuration $q_t$, velocity $v_t$ and acceleration $a_t$ (all in the configuration space. \n",
    "This will allow us to formulate a proper contact constraint, even if only partially described from the motion point of view. \n",
    "The next notebook will drive us to complete version of the trajectory optimization problem, including forces, torques and complete contacts.\n",
    "\n"
   ]
  },
  {
   "cell_type": "code",
   "execution_count": null,
   "metadata": {},
   "outputs": [],
   "source": [
    "import gepetuto.magic"
   ]
  },
  {
   "cell_type": "markdown",
   "metadata": {},
   "source": [
    "## Set up"
   ]
  },
  {
   "cell_type": "markdown",
   "metadata": {
    "jp-MarkdownHeadingCollapsed": true
   },
   "source": [
    "We will use the following tools:\n",
    "- the ur10 model (loaded by example-robot-data)\n",
    "- pinocchio.casadi for writing the problem and computing its derivatives\n",
    "- the IpOpt solver wrapped in casadi\n",
    "- the meshcat viewer"
   ]
  },
  {
   "cell_type": "code",
   "execution_count": null,
   "metadata": {},
   "outputs": [],
   "source": [
    "# %load tp2/generated/trajopt_kine_imports\n",
    "import time\n",
    "import casadi\n",
    "import example_robot_data as robex\n",
    "import numpy as np\n",
    "import pinocchio as pin\n",
    "from pinocchio import casadi as cpin\n",
    "from wan2024.meshcat_viewer_wrapper import MeshcatVisualizer\n"
   ]
  },
  {
   "cell_type": "markdown",
   "metadata": {},
   "source": [
    "The notebook is written first for a UR10 robot model configured in fixed basis, then with a Talos pair of legs configured in floating mode. Replace the robot by your own URDF..."
   ]
  },
  {
   "cell_type": "code",
   "execution_count": null,
   "metadata": {},
   "outputs": [],
   "source": [
    "robot = robex.load(\"ur10\")"
   ]
  },
  {
   "cell_type": "markdown",
   "metadata": {},
   "source": [
    "The robot will start from an arbitrary initial configuration (make the solver life simpler by avoiding the singular 0 configuration) and aim at an object located a placement $M_{target} \\in SE(3)$"
   ]
  },
  {
   "cell_type": "code",
   "execution_count": null,
   "metadata": {},
   "outputs": [],
   "source": [
    "# %load tp2/generated/trajopt_kine_configurations\n",
    "in_world_M_target = pin.SE3(pin.utils.rotate(\"y\", 3), np.array([-0.5, 0.1, 0.2]))  # x,y,z\n",
    "q0 = np.array([0, -3.14 / 2, 0, 0, 0, 0])\n",
    "tool_frameName = \"tool0\"\n"
   ]
  },
  {
   "cell_type": "markdown",
   "metadata": {},
   "source": [
    "Open a viewer, display the robot and markers to visualize"
   ]
  },
  {
   "cell_type": "code",
   "execution_count": null,
   "metadata": {},
   "outputs": [],
   "source": [
    "# %load tp2/generated/trajopt_kine_viewer\n",
    "# Open the viewer\n",
    "viz = MeshcatVisualizer(robot)\n",
    "viz.display(robot.q0)\n",
    "# Add a vizualization for the target\n",
    "boxID = \"world/box\"\n",
    "viz.addBox(boxID, [0.05, 0.1, 0.2], [1.0, 0.2, 0.2, 0.5])\n",
    "# Add a vizualisation for the tip of the arm.\n",
    "tipID = \"world/blue\"\n",
    "viz.addBox(tipID, [0.08] * 3, [0.2, 0.2, 1.0, 0.5])\n",
    "\n",
    "def displayScene(q, dt=1e-1):\n",
    "    \"\"\"\n",
    "    Given the robot configuration, display:\n",
    "    - the robot\n",
    "    - a box representing tool_id\n",
    "    - a box representing in_world_M_target\n",
    "    \"\"\"\n",
    "    pin.framesForwardKinematics(model, data, q)\n",
    "    M = data.oMf[tool_id]\n",
    "    viz.applyConfiguration(boxID, in_world_M_target)\n",
    "    viz.applyConfiguration(tipID, M)\n",
    "    viz.display(q)\n",
    "    time.sleep(dt)\n"
   ]
  },
  {
   "cell_type": "code",
   "execution_count": null,
   "metadata": {},
   "outputs": [],
   "source": [
    "viz.viewer.jupyter_cell()"
   ]
  },
  {
   "cell_type": "markdown",
   "metadata": {},
   "source": [
    "We are mostly interested by the robot model. We also need to access some particular frames."
   ]
  },
  {
   "cell_type": "code",
   "execution_count": null,
   "metadata": {},
   "outputs": [],
   "source": [
    "# %load tp2/generated/trajopt_kine_modeldata\n",
    "robot.q0 = q0\n",
    "\n",
    "# The pinocchio model is what we are really interested by.\n",
    "model = robot.model\n",
    "data = model.createData()\n",
    "tool_id = model.getFrameId(tool_frameName)\n"
   ]
  },
  {
   "cell_type": "markdown",
   "metadata": {},
   "source": [
    "Finally, we will need the same helpers for getting around the Casadi SX/MX issue."
   ]
  },
  {
   "cell_type": "code",
   "execution_count": null,
   "metadata": {},
   "outputs": [],
   "source": [
    "# %load tp2/generated/trajopt_kine_casadi\n",
    "# --- Casadi helpers\n",
    "cmodel = cpin.Model(model)\n",
    "cdata = cmodel.createData()\n",
    "\n",
    "cq = casadi.SX.sym(\"x\", model.nq, 1)\n",
    "cpin.framesForwardKinematics(cmodel, cdata, cq)\n",
    "\n",
    "error3_tool = casadi.Function(\n",
    "    \"etool3\", [cq], [cdata.oMf[tool_id].translation - in_world_M_target.translation]\n",
    ")\n",
    "error6_tool = casadi.Function(\n",
    "    \"etool6\",\n",
    "    [cq],\n",
    "    [cpin.log6(cdata.oMf[tool_id].inverse() * cpin.SE3(in_world_M_target)).vector],\n",
    ")\n",
    "error_tool = error3_tool\n"
   ]
  },
  {
   "cell_type": "markdown",
   "metadata": {},
   "source": [
    "We are done for the set up, let's now write the problems we are interested by."
   ]
  },
  {
   "cell_type": "markdown",
   "metadata": {},
   "source": [
    "## Optimizing a sequence of configurations"
   ]
  },
  {
   "cell_type": "markdown",
   "metadata": {},
   "source": [
    "We will first consider a problem where the trajectory is represented by a sequence of configurations.\n",
    "\n",
    "Decide: $Q = [ q_0 ... q_T ] \\in R^{n_q \\times (T+1)}$\n",
    "\n",
    "Minimizing:   $\\sum_{t=0}^{T-1}  || q_t - q_{t+1} ||^2 + || e(q_T) ||^2$\n",
    "\n",
    "Subject to: $q_0 = robot.q0$\n",
    "\n",
    "The hyperparameters for this problems are:"
   ]
  },
  {
   "cell_type": "code",
   "execution_count": null,
   "metadata": {},
   "outputs": [],
   "source": [
    "# %load tp2/generated/trajopt_kine_hyper\n",
    "T = 10\n",
    "w_run = 0.1\n",
    "w_term = 1\n"
   ]
  },
  {
   "cell_type": "markdown",
   "metadata": {},
   "source": [
    "For that, we first define an optimization problem in Casadi where the decision variables are the T+1 configurations."
   ]
  },
  {
   "cell_type": "code",
   "execution_count": null,
   "metadata": {},
   "outputs": [],
   "source": [
    "# %load tp2/generated/trajopt_kine_casadi_opti\n",
    "opti = casadi.Opti()\n",
    "var_qs = [opti.variable(model.nq) for t in range(T + 1)]\n",
    "totalcost = 0\n"
   ]
  },
  {
   "cell_type": "markdown",
   "metadata": {},
   "source": [
    "Now implement the running cost (the sum of configuration differences):"
   ]
  },
  {
   "cell_type": "code",
   "execution_count": null,
   "metadata": {},
   "outputs": [],
   "source": [
    "# %load tp2/generated/trajopt_kine_casadi_runcost\n",
    "for t in range(T):\n",
    "    totalcost += w_run * casadi.sumsqr(var_qs[t] - var_qs[t + 1])\n"
   ]
  },
  {
   "cell_type": "markdown",
   "metadata": {},
   "source": [
    "Now implement the terminal cost. You can use either the 3d cost (position only) or 6d cost (full placement)."
   ]
  },
  {
   "cell_type": "code",
   "execution_count": null,
   "metadata": {},
   "outputs": [],
   "source": [
    "# %load tp2/generated/trajopt_kine_casadi_termcost\n",
    "totalcost += w_term * casadi.sumsqr(error_tool(var_qs[T]))\n"
   ]
  },
  {
   "cell_type": "markdown",
   "metadata": {},
   "source": [
    "Now implement the initial constraint."
   ]
  },
  {
   "cell_type": "code",
   "execution_count": null,
   "metadata": {},
   "outputs": [],
   "source": [
    "# %load tp2/generated/trajopt_kine_casadi_q0\n",
    "opti.subject_to(var_qs[0] == robot.q0)\n"
   ]
  },
  {
   "cell_type": "markdown",
   "metadata": {},
   "source": [
    "And we are good for optimizing the problem:"
   ]
  },
  {
   "cell_type": "code",
   "execution_count": null,
   "metadata": {},
   "outputs": [],
   "source": [
    "# %load tp2/generated/trajopt_kine_solve\n",
    "opti.minimize(totalcost)\n",
    "opti.solver(\"ipopt\")  # set numerical backend\n",
    "opti.callback(lambda i: displayScene(opti.debug.value(var_qs[-1])))\n",
    "\n",
    "# Caution: in case the solver does not converge, we are picking the candidate values\n",
    "# at the last iteration in opti.debug, and they are NO guarantee of what they mean.\n",
    "try:\n",
    "    sol = opti.solve_limited()\n",
    "    sol_qs = [opti.value(var_q) for var_q in var_qs]\n",
    "except:\n",
    "    print(\"ERROR in convergence, plotting debug info.\")\n",
    "    sol_qs = [opti.debug.value(var_q) for var_q in var_qs]\n"
   ]
  },
  {
   "cell_type": "markdown",
   "metadata": {},
   "source": [
    "Here the progress of the solver is shown by displaying the terminal configuration in the viewer at each new step. We can also visualize the full trajectory."
   ]
  },
  {
   "cell_type": "code",
   "execution_count": null,
   "metadata": {},
   "outputs": [],
   "source": [
    "# %load tp2/generated/trajopt_kine_disptraj\n",
    "def displayTraj(qs, dt=1e-2):\n",
    "    for q in qs[1:]:\n",
    "        displayScene(q, dt=dt)\n"
   ]
  },
  {
   "cell_type": "code",
   "execution_count": null,
   "metadata": {},
   "outputs": [],
   "source": [
    "displayTraj(sol_qs,1e-1)"
   ]
  },
  {
   "cell_type": "markdown",
   "metadata": {},
   "source": [
    "## Optimization with proper integration"
   ]
  },
  {
   "attachments": {
    "f62bc9a9-e98c-4c94-a37f-56f29abef6f4.png": {
     "image/png": "[encoded data removed]"
    }
   },
   "cell_type": "markdown",
   "metadata": {},
   "source": [
    "So far, we represented the trajectory with a collection of configurations. The regularization $|| q-q'||^2$ can be interpreted as a regularization on the velocity, and extended to higher level differenciation. This is the approach explored in eg the excellent tutorial by [Marc Toussaint (2017)](https://argmin.lis.tu-berlin.de/papers/17-toussaint-Newton.pdf). Going in that direction, you might want to represent your trajectory by a proper polynomials, which would make your derivatives more stable, then leading to collocation.\n",
    "\n",
    "We will go another way. The drawback of $|| q-q'||^2$ and further derivatives is that it is not Markovian any more (you might formulated a 2nd-order Markovian). For Casadi and the backend solver IpOpt behind it, it makes no importance as they are not able to exploit the Markovian structure. But other efficient solvers, in particular based on Belman recursivity, are able to exploit this structure for improved computation speed.\n",
    "\n",
    "![image.png](attachment:f62bc9a9-e98c-4c94-a37f-56f29abef6f4.png)\n",
    "\n",
    "Marc Toussaint (2017). A tutorial on Newton methods for constrained trajectory optimization and relations to SLAM, Gaussian Process smoothing, optimal control, and probabilistic inference. Geometric and numerical foundations of movements, 361-392."
   ]
  },
  {
   "cell_type": "markdown",
   "metadata": {},
   "source": [
    "\n",
    "We will then represent the trajectory by a list $X=[x_0...x_T]$ of state points combining configuration and velocity $x=[q,v]$, and a list of accelerations $A = [a_0 ... a_{T-1}$ (all of them in configuration space."
   ]
  },
  {
   "cell_type": "code",
   "execution_count": null,
   "metadata": {},
   "outputs": [],
   "source": [
    "# %load tp2/generated/trajopt_acc_helpers\n",
    "# --- Casadi helpers\n",
    "cmodel = cpin.Model(model)\n",
    "cdata = cmodel.createData()\n",
    "\n",
    "nq = model.nq\n",
    "nv = model.nv\n",
    "nx = nq + nv\n",
    "ndx = 2 * nv\n",
    "cx = casadi.SX.sym(\"x\", nx, 1)\n",
    "cdx = casadi.SX.sym(\"dx\", nv * 2, 1)\n",
    "cq = cx[:nq]\n",
    "cv = cx[nq:]\n",
    "caq = casadi.SX.sym(\"a\", nv, 1)\n",
    "\n",
    "# Compute kinematics casadi graphs\n",
    "cpin.forwardKinematics(cmodel, cdata, cq, cv, caq)\n",
    "cpin.updateFramePlacements(cmodel, cdata)\n"
   ]
  },
  {
   "cell_type": "markdown",
   "metadata": {},
   "source": [
    "We need to redefine the forward geometry helper for $x$."
   ]
  },
  {
   "cell_type": "code",
   "execution_count": null,
   "metadata": {},
   "outputs": [],
   "source": [
    "# %load tp2/generated/trajopt_acc_error\n",
    "# Sym graph for the operational error\n",
    "error_tool = casadi.Function(\n",
    "    \"etool3\", [cx], [cdata.oMf[tool_id].translation - in_world_M_target.translation]\n",
    ")\n"
   ]
  },
  {
   "cell_type": "markdown",
   "metadata": {},
   "source": [
    "We must then enforce these variables to be derivatives of each other. This is done by introducing a numerical integration, for example:\n",
    "$$ v_{t+1} = v_t + a_t \\Delta T$$\n",
    "$$ q_{t+1} = q_t \\oplus v_{t+1} \\Delta T$$\n",
    "\n",
    "For now, the configuration space is simple, and we don't have to worry on the sum in $\\mathcal{Q}$, more on this later: for now, it is a regular plus. \n",
    "\n",
    "Here we use the basic Euler integration scheme, but any other scheme (Runge-Kutta, etc) can be chosen. We will suppose that it is explicit, ie $x'$ is a litteral of $x,a$. Roboticists don't pay much attention to the integration scheme, in part because they are lazy, but also because nobody shown a convincing proof of the superiority of better integrators for our setups. \n",
    "\n",
    "The optimization problem then is\n",
    "\n",
    "\n",
    "Decide: \n",
    "- $\\{x\\} = [x_0 ... x_T]$ the state trajectory\n",
    "- $\\{a\\} = [a_0 ... a_{T-1}]$ the acceleration\n",
    "\n",
    "Minimizing:  \\sum_{t=0}^{T-1} v_t^2 + || e(q) ||^2\n",
    "\n",
    "Subject to:\n",
    "- $q_0 = robot.q0$\n",
    "- $\\forall t=0..T-1, $\n",
    "$$\\quad\\quad\\quad\\quad v_{t+1} = v_t + a_t \\Delta T$$\n",
    "$$\\quad\\quad\\quad\\quad q_{t+1} = q_t \\oplus v_{t+1} \\Delta T$$\n",
    "\n",
    "The following hyperparameters are useful:\n"
   ]
  },
  {
   "cell_type": "code",
   "execution_count": null,
   "metadata": {},
   "outputs": [],
   "source": [
    "# %load tp2/generated/trajopt_acc_hyper\n",
    "T = 50\n",
    "DT = 0.002\n",
    "w_vel = 0.1\n",
    "w_conf = 5\n"
   ]
  },
  {
   "cell_type": "markdown",
   "metadata": {},
   "source": [
    "\n",
    "This integration scheme is summarized with the following casadi helper.\n"
   ]
  },
  {
   "cell_type": "code",
   "execution_count": null,
   "metadata": {},
   "outputs": [],
   "source": [
    "# %load tp2/generated/trajopt_acc_cnext\n",
    "# Sym graph for the integration operation x' = [ q+vDT+aDT**2, v+aDT ]\n",
    "cnext = casadi.Function(\n",
    "    \"next\",\n",
    "    [cx, caq],\n",
    "    [\n",
    "        casadi.vertcat(\n",
    "            cpin.integrate(cmodel, cx[:nq], cx[nq:] * DT + caq * DT**2),\n",
    "            cx[nq:] + caq * DT,\n",
    "        )\n",
    "    ],\n",
    ")\n"
   ]
  },
  {
   "cell_type": "markdown",
   "metadata": {},
   "source": [
    "From that, you can define the trajectory optimization problem. Follow the steps:\n",
    "\n",
    "1. Define the variables $\\{x\\}$ and $\\{a\\}$"
   ]
  },
  {
   "cell_type": "code",
   "execution_count": null,
   "metadata": {},
   "outputs": [],
   "source": [
    "opti = casadi.Opti()\n",
    "var_xs = [opti.variable(nx) for t in range(T + 1)]\n",
    "var_as = [opti.variable(nv) for t in range(T)]"
   ]
  },
  {
   "cell_type": "markdown",
   "metadata": {},
   "source": [
    "2. Compute the cost"
   ]
  },
  {
   "cell_type": "code",
   "execution_count": null,
   "metadata": {},
   "outputs": [],
   "source": [
    "# %load tp2/generated/trajopt_acc_ocp2\n",
    "totalcost = 0\n",
    "# Define the running cost\n",
    "for t in range(T):\n",
    "    totalcost += 1e-3 * DT * casadi.sumsqr(var_xs[t][nq:])\n",
    "    totalcost += 1e-4 * DT * casadi.sumsqr(var_as[t])\n",
    "totalcost += 1e4 * casadi.sumsqr(error_tool(var_xs[T]))\n"
   ]
  },
  {
   "cell_type": "markdown",
   "metadata": {},
   "source": [
    "3. Enforce the initial condition"
   ]
  },
  {
   "cell_type": "code",
   "execution_count": null,
   "metadata": {},
   "outputs": [],
   "source": [
    "# %load tp2/generated/trajopt_acc_ocp3\n",
    "opti.subject_to(var_xs[0][:nq] == robot.q0)\n",
    "opti.subject_to(var_xs[0][nq:] == 0)\n"
   ]
  },
  {
   "cell_type": "markdown",
   "metadata": {},
   "source": [
    "4. Enforce the integration scheme"
   ]
  },
  {
   "cell_type": "code",
   "execution_count": null,
   "metadata": {},
   "outputs": [],
   "source": [
    "# %load tp2/generated/trajopt_acc_integration\n",
    "for t in range(T):\n",
    "    opti.subject_to(cnext(var_xs[t], var_as[t]) == var_xs[t + 1])\n"
   ]
  },
  {
   "cell_type": "markdown",
   "metadata": {},
   "source": [
    "5. Solve"
   ]
  },
  {
   "cell_type": "code",
   "execution_count": null,
   "metadata": {},
   "outputs": [],
   "source": [
    "# %load tp2/generated/trajopt_acc_ocp5\n",
    "### SOLVE\n",
    "opti.minimize(totalcost)\n",
    "opti.solver(\"ipopt\")  # set numerical backend\n",
    "opti.callback(lambda i: displayScene(opti.debug.value(var_xs[-1][:nq])))\n",
    "\n",
    "# Caution: in case the solver does not converge, we are picking the candidate values\n",
    "# at the last iteration in opti.debug, and they are NO guarantee of what they mean.\n",
    "try:\n",
    "    sol = opti.solve_limited()\n",
    "    sol_xs = [opti.value(var_x) for var_x in var_xs]\n",
    "    sol_as = [opti.value(var_a) for var_a in var_as]\n",
    "except:\n",
    "    print(\"ERROR in convergence, plotting debug info.\")\n",
    "    sol_xs = [opti.debug.value(var_x) for var_x in var_xs]\n",
    "    sol_as = [opti.debug.value(var_a) for var_a in var_as]\n"
   ]
  },
  {
   "cell_type": "code",
   "execution_count": null,
   "metadata": {},
   "outputs": [],
   "source": [
    "# %load tp2/generated/trajopt_acc_ocp6\n",
    "print(\"***** Display the resulting trajectory ...\")\n",
    "displayScene(robot.q0, 1)\n",
    "displayTraj([x[:nq] for x in sol_xs], DT)"
   ]
  },
  {
   "cell_type": "markdown",
   "metadata": {},
   "source": [
    "## Enforcing a contact constraint"
   ]
  },
  {
   "cell_type": "markdown",
   "metadata": {},
   "source": [
    "The second problem we defined is actually very similar to the first one. It is a simple reformulation, but the optimum is the same. But now we can nicely enforce acceleration constraints, or set acceleration costs, which is very useful for dynamics.\n",
    "\n",
    "As a first step, let's enforce a contact constraint. \n",
    "\n",
    "Rigid (bilateral) contacts lead to a motion constraint imposing a geometry quantity to remain constant: either the position of a contact point in a 3D contact, or the relative placements of the contact bodies for 6D contact, etc. \n",
    "\n",
    "But first, for that to be meaningul, let's do it on a humanoid robot.\n",
    "\n",
    "### Load a biped model"
   ]
  },
  {
   "cell_type": "code",
   "execution_count": null,
   "metadata": {},
   "outputs": [],
   "source": [
    "# %load tp2/generated/trajopt_acc_talos\n",
    "robot = robex.load(\"talos_legs\")\n",
    "# Open the viewer\n",
    "viz = MeshcatVisualizer(robot)\n",
    "viz.display(robot.q0)\n",
    "\n",
    "# The pinocchio model is what we are really interested by.\n",
    "model = robot.model\n",
    "data = model.createData()\n"
   ]
  },
  {
   "cell_type": "markdown",
   "metadata": {},
   "source": [
    "In addition to the usual end-effector frame, we will now define some contact location of the robot body. We will consider 2 contact types: punctual 3d contacts, and flat 6d contacts. They are defined by their type, and the frame of the robot where the contact occurs. We will store this information using the SimpleNamespace type."
   ]
  },
  {
   "cell_type": "code",
   "execution_count": null,
   "metadata": {},
   "outputs": [],
   "source": [
    "from types import SimpleNamespace"
   ]
  },
  {
   "cell_type": "code",
   "execution_count": null,
   "metadata": {},
   "outputs": [],
   "source": [
    "# %load tp2/generated/trajopt_acc_frames\n",
    "in_world_M_target = pin.SE3(pin.utils.rotate(\"y\", 3), np.array([-0.1, 0.2, 0.45094]))  # x,y,z\n",
    "contacts = [SimpleNamespace(name=\"left_sole_link\", type=pin.ContactType.CONTACT_6D)]\n",
    "tool_frameName = \"right_sole_link\"\n"
   ]
  },
  {
   "cell_type": "code",
   "execution_count": null,
   "metadata": {},
   "outputs": [],
   "source": [
    "# %load tp2/generated/trajopt_acc_framesId\n",
    "tool_id = model.getFrameId(tool_frameName)\n",
    "for c in contacts:\n",
    "    c.id = model.getFrameId(c.name)\n",
    "    assert c.id < len(model.frames)\n"
   ]
  },
  {
   "cell_type": "markdown",
   "metadata": {},
   "source": [
    "We can display them in the viewer for more understanding."
   ]
  },
  {
   "cell_type": "code",
   "execution_count": null,
   "metadata": {},
   "outputs": [],
   "source": [
    "# %load tp2/generated/trajopt_acc_viz\n",
    "# --- Add box to represent target\n",
    "# Add a vizualization for the target\n",
    "boxID = \"world/box\"\n",
    "viz.addBox(boxID, [0.05, 0.1, 0.2], [1.0, 0.2, 0.2, 0.5])\n",
    "# Add a vizualisation for the tip of the arm.\n",
    "tipID = \"world/blue\"\n",
    "viz.addBox(tipID, [0.08] * 3, [0.2, 0.2, 1.0, 0.5])\n",
    "for c in contacts:\n",
    "    c.viz = f\"world/contact_{c.name}\"\n",
    "    viz.addSphere(c.viz, [0.07], [0.8, 0.8, 0.2, 0.5])\n",
    "\n",
    "\n",
    "def displayScene(q, dt=1e-1):\n",
    "    \"\"\"\n",
    "    Given the robot configuration, display:\n",
    "    - the robot\n",
    "    - a box representing tool_id\n",
    "    - a box representing in_world_M_target\n",
    "    \"\"\"\n",
    "    pin.framesForwardKinematics(model, data, q)\n",
    "    M = data.oMf[tool_id]\n",
    "    viz.applyConfiguration(boxID, in_world_M_target)\n",
    "    viz.applyConfiguration(tipID, M)\n",
    "    for c in contacts:\n",
    "        viz.applyConfiguration(c.viz, data.oMf[c.id])\n",
    "    viz.display(q)\n",
    "    time.sleep(dt)\n",
    "\n",
    "\n",
    "def displayTraj(qs, dt=1e-2):\n",
    "    for q in qs[1:]:\n",
    "        displayScene(q, dt=dt)\n",
    "\n",
    "\n",
    "displayScene(robot.q0)\n"
   ]
  },
  {
   "cell_type": "markdown",
   "metadata": {},
   "source": [
    "### Working with a floating robot (ie on a Lie group)\n",
    "\n",
    "This robot has a more complex configuration structure, with the rotation of its basis represented by a quaternion (dimension 4) subject to normalization constraint, and the velocity of its basis with an angular velocity (dimension 3). Then $n_q>n_v$, and we cannot trivally sum $q \\oplus v \\Delta t$."
   ]
  },
  {
   "cell_type": "code",
   "execution_count": null,
   "metadata": {},
   "outputs": [],
   "source": [
    "# %load tp2/generated/trajopt_acc_helpers\n",
    "# --- Casadi helpers\n",
    "cmodel = cpin.Model(model)\n",
    "cdata = cmodel.createData()\n",
    "\n",
    "nq = model.nq\n",
    "nv = model.nv\n",
    "nx = nq + nv\n",
    "ndx = 2 * nv\n",
    "cx = casadi.SX.sym(\"x\", nx, 1)\n",
    "cdx = casadi.SX.sym(\"dx\", nv * 2, 1)\n",
    "cq = cx[:nq]\n",
    "cv = cx[nq:]\n",
    "caq = casadi.SX.sym(\"a\", nv, 1)\n",
    "\n",
    "# Compute kinematics casadi graphs\n",
    "cpin.forwardKinematics(cmodel, cdata, cq, cv, caq)\n",
    "cpin.updateFramePlacements(cmodel, cdata)\n"
   ]
  },
  {
   "cell_type": "markdown",
   "metadata": {},
   "source": [
    "This $\\oplus$ operation is the integration on the configuration space, formally a Lie group, and is implemented in pinocchio with pin.integrate(model,q,dq). The following Casadi helper synthesizes this information:"
   ]
  },
  {
   "cell_type": "code",
   "execution_count": null,
   "metadata": {},
   "outputs": [],
   "source": [
    "# %load tp2/generated/trajopt_acc_integrate\n",
    "# Sym graph for the integration operation x,dx -> x(+)dx = [model.integrate(q,dq),v+dv]\n",
    "cintegrate = casadi.Function(\n",
    "    \"integrate\",\n",
    "    [cx, cdx],\n",
    "    [casadi.vertcat(cpin.integrate(cmodel, cx[:nq], cdx[:nv]), cx[nq:] + cdx[nv:])],\n",
    ")\n"
   ]
  },
  {
   "cell_type": "markdown",
   "metadata": {},
   "source": [
    "You can set up the optimization variables to contain a configuration $q$, but in that case you must enforce the normalization constraint $q[4:7] == 1$. More efficiently, we represent the decision variable to be $dq \\in R^{n_v}$ a small displacement from the robot reference configuration robot.q0. Then $q = robot.q0 \\oplus dq$ becomes a function of the decision variable, and no constraint need to be additionally enforce. The nice aspect of Casadi is that you can define e.g var_dq to be your decision variable, then call var_q the integration of $dq$ from robot.q0, and use var_q as if it was you variable for the simple robot case. More about that in practice later."
   ]
  },
  {
   "cell_type": "markdown",
   "metadata": {},
   "source": [
    "The optimization problem can now be written:\n",
    "\n",
    "Decide:\n",
    "- $\\{x\\} = [ x_0 ... x_T ]$ the state trajectory (with $x = (robot.q0 + dq, v)$)\n",
    "- $\\{a\\} = [a_0 ... a_{T-1} ]$ the accelerations\n",
    "\n",
    "Minimizing: $\\sum_{t=0}^{T-1} v_t^2 + e(q_T)^2$\n",
    "\n",
    "Subject to:\n",
    "- $x_0 = (robot.q0, 0)$\n",
    "- $\\forall t=0..T-1$\n",
    "$$ v_{t+1} = v_t + a_t \\Delta t$$\n",
    "$$ q_{t+1} = q_t \\oplus v_{t+1} \\Delta t$$\n",
    "$$ \\forall c  \\textrm{ contacts }, \\alpha_c{t} (q_t,v_t,a_t) = \\kappa$$\n",
    "\n",
    "where $\\alpha$ is the acceleration of the contact interfaces, and $\\kappa$ is a numerical trick we will explain below.\n",
    "\n",
    "Before that, let's write the helpers needed to go around the SX/MX Casadi typing."
   ]
  },
  {
   "cell_type": "code",
   "execution_count": null,
   "metadata": {},
   "outputs": [],
   "source": [
    "# %load tp2/generated/trajopt_acc_error\n",
    "# Sym graph for the operational error\n",
    "error_tool = casadi.Function(\n",
    "    \"etool3\", [cx], [cdata.oMf[tool_id].translation - in_world_M_target.translation]\n",
    ")\n"
   ]
  },
  {
   "cell_type": "code",
   "execution_count": null,
   "metadata": {},
   "outputs": [],
   "source": [
    "# %load tp2/generated/trajopt_acc_cnext\n",
    "# Sym graph for the integration operation x' = [ q+vDT+aDT**2, v+aDT ]\n",
    "cnext = casadi.Function(\n",
    "    \"next\",\n",
    "    [cx, caq],\n",
    "    [\n",
    "        casadi.vertcat(\n",
    "            cpin.integrate(cmodel, cx[:nq], cx[nq:] * DT + caq * DT**2),\n",
    "            cx[nq:] + caq * DT,\n",
    "        )\n",
    "    ],\n",
    ")\n"
   ]
  },
  {
   "cell_type": "markdown",
   "metadata": {},
   "source": [
    "### Contact model\n",
    "\n"
   ]
  },
  {
   "cell_type": "markdown",
   "metadata": {},
   "source": [
    "Contacts are then mathematically defined by a forward geometry function to remain constant: the world position of a point for 3D contacts, the relative placement of two frames for 6D contacts. \n",
    "\n",
    "As we formulate the problem in accelerations, we will rather differentiate twice this constraint to have it at the acceleration level. This is more generic, and assuming you start from a state with a valid contact configuration, then it is leading to respecting the initial constraint as well.\n"
   ]
  },
  {
   "cell_type": "code",
   "execution_count": null,
   "metadata": {},
   "outputs": [],
   "source": [
    "# %load tp2/generated/trajopt_acc_helper_contact\n",
    "# Sym graph for the contact constraint and Baugart correction terms\n",
    "# Works for both 3D and 6D contacts.\n",
    "# Uses the contact list <contacts> where each item must have a <name>, an <id> and a <type> field.\n",
    "dpcontacts = {}  # Error in contact position\n",
    "vcontacts = {}  # Error in contact velocity\n",
    "acontacts = {}  # Contact acceleration\n",
    "\n",
    "for c in contacts:\n",
    "    if c.type == pin.ContactType.CONTACT_3D:\n",
    "        p0 = data.oMf[c.id].translation.copy()\n",
    "        dpcontacts[c.name] = casadi.Function(\n",
    "            f\"dpcontact_{c.name}\",\n",
    "            [cx],\n",
    "            [-(cdata.oMf[c.id].inverse().act(casadi.SX(p0)))],\n",
    "        )\n",
    "        vcontacts[c.name] = casadi.Function(\n",
    "            f\"vcontact_{c.name}\",\n",
    "            [cx],\n",
    "            [cpin.getFrameVelocity(cmodel, cdata, c.id, pin.LOCAL).linear],\n",
    "        )\n",
    "        acontacts[c.name] = casadi.Function(\n",
    "            f\"acontact_{c.name}\",\n",
    "            [cx, caq],\n",
    "            [cpin.getFrameClassicalAcceleration(cmodel, cdata, c.id, pin.LOCAL).linear],\n",
    "        )\n",
    "    elif c.type == pin.ContactType.CONTACT_6D:\n",
    "        p0 = data.oMf[c.id]\n",
    "        dpcontacts[c.name] = casadi.Function(f\"dpcontact_{c.name}\", [cx], [np.zeros(6)])\n",
    "        vcontacts[c.name] = casadi.Function(\n",
    "            f\"vcontact_{c.name}\",\n",
    "            [cx],\n",
    "            [cpin.getFrameVelocity(cmodel, cdata, c.id, pin.LOCAL).vector],\n",
    "        )\n",
    "        acontacts[c.name] = casadi.Function(\n",
    "            f\"acontact_{c.name}\",\n",
    "            [cx, caq],\n",
    "            [cpin.getFrameAcceleration(cmodel, cdata, c.id, pin.LOCAL).vector],\n",
    "        )\n"
   ]
  },
  {
   "cell_type": "markdown",
   "metadata": {},
   "source": [
    "Yet in practice, we barely get perfect 0 contact acceleration (because nonexactness of the numerical optimization), and we don't have a perfect numerical integrator. Both lead to some drift in the contact interface. We then have to correct this nonphysical drift with a nonphysical corrector, asking the acceleration to follow the corrector $\\kappa$. The simplest solution is the so-called Baumgart correction term, which is a simple linear feedback in both contact position and velocity.\n",
    "\n",
    "$$ \\kappa(q,v) = -K_p (p(q) \\ominus p_0) - K_v \\nu$$\n",
    "\n",
    "where $p(q)$ is the contact location, that should be constant to $p_0$, and $\\nu$ is the contact velocity, $K_p,K_v$ are the feedback gains typically chosen so that $K_p = 2\\sqrt{K_v}$."
   ]
  },
  {
   "cell_type": "code",
   "execution_count": null,
   "metadata": {},
   "outputs": [],
   "source": [
    "# %load tp2/generated/trajopt_acc_Baumgart\n",
    "Kp = 200\n",
    "Kv = 2 * np.sqrt(Kp)"
   ]
  },
  {
   "cell_type": "code",
   "execution_count": null,
   "metadata": {},
   "outputs": [],
   "source": [
    "# %load tp2/generated/trajopt_acc_contact_placement\n",
    "# Get initial contact position (for Baumgart correction)\n",
    "pin.framesForwardKinematics(model, data, robot.q0)"
   ]
  },
  {
   "cell_type": "code",
   "execution_count": null,
   "metadata": {},
   "outputs": [],
   "source": [
    "# %load tp2/generated/trajopt_acc_corrector\n",
    "cbaumgart = {\n",
    "    c.name: casadi.Function(\n",
    "        f\"K_{c.name}\", [cx], [Kp * dpcontacts[c.name](cx) + Kv * vcontacts[c.name](cx)]\n",
    "    )\n",
    "    for c in contacts\n",
    "}"
   ]
  },
  {
   "cell_type": "markdown",
   "metadata": {},
   "source": [
    "### Writing the final problem\n",
    "You can now write the full problem, following the steps.\n",
    "\n",
    "1. Declare the $X$ and $A$ variables. Remember $X$ is written in the tangent, first as $var_dxs$ where each step is of size $n_{dx} = 2 n_v$, then as $var_xs$ by integrating (cintegrate) from the state $robot.q0,0$."
   ]
  },
  {
   "cell_type": "code",
   "execution_count": null,
   "metadata": {},
   "outputs": [],
   "source": [
    "# %load tp2/generated/trajopt_acc_ocp1\n",
    "opti = casadi.Opti()\n",
    "var_dxs = [opti.variable(ndx) for t in range(T + 1)]\n",
    "var_as = [opti.variable(nv) for t in range(T)]\n",
    "var_xs = [\n",
    "    cintegrate(np.concatenate([robot.q0, np.zeros(nv)]), var_dx) for var_dx in var_dxs\n",
    "]\n"
   ]
  },
  {
   "cell_type": "markdown",
   "metadata": {},
   "source": [
    "2. Compute the cost by summing the integration terms and the terminal cost."
   ]
  },
  {
   "cell_type": "code",
   "execution_count": null,
   "metadata": {},
   "outputs": [],
   "source": [
    "# %load tp2/generated/trajopt_acc_ocp2\n",
    "totalcost = 0\n",
    "# Define the running cost\n",
    "for t in range(T):\n",
    "    totalcost += 1e-3 * DT * casadi.sumsqr(var_xs[t][nq:])\n",
    "    totalcost += 1e-4 * DT * casadi.sumsqr(var_as[t])\n",
    "totalcost += 1e4 * casadi.sumsqr(error_tool(var_xs[T]))\n"
   ]
  },
  {
   "cell_type": "markdown",
   "metadata": {},
   "source": [
    "3. Enforce the initial constraint"
   ]
  },
  {
   "cell_type": "code",
   "execution_count": null,
   "metadata": {},
   "outputs": [],
   "source": [
    "# %load tp2/generated/trajopt_acc_ocp3\n",
    "opti.subject_to(var_xs[0][:nq] == robot.q0)\n",
    "opti.subject_to(var_xs[0][nq:] == 0)\n"
   ]
  },
  {
   "cell_type": "markdown",
   "metadata": {},
   "source": [
    "4. Enforce the integration constraint "
   ]
  },
  {
   "cell_type": "code",
   "execution_count": null,
   "metadata": {},
   "outputs": [],
   "source": [
    "# %load tp2/generated/trajopt_acc_integration\n",
    "for t in range(T):\n",
    "    opti.subject_to(cnext(var_xs[t], var_as[t]) == var_xs[t + 1])\n"
   ]
  },
  {
   "cell_type": "markdown",
   "metadata": {},
   "source": [
    "5. Enforce the contact constraint (first without correction, then with correction)"
   ]
  },
  {
   "cell_type": "code",
   "execution_count": null,
   "metadata": {},
   "outputs": [],
   "source": [
    "# %load tp2/generated/trajopt_acc_ocp4\n",
    "# Define the contact constraints\n",
    "for t in range(T):\n",
    "    for c in contacts:\n",
    "        # correction = Kv* vcontacts[c.name](var_xs[t]) + Kp * dpcontacts[c.name](var_xs[t])\n",
    "        correction = cbaumgart[c.name](var_xs[t])\n",
    "        opti.subject_to(acontacts[c.name](var_xs[t], var_as[t]) == -correction)\n"
   ]
  },
  {
   "cell_type": "markdown",
   "metadata": {},
   "source": [
    "6. Solve"
   ]
  },
  {
   "cell_type": "code",
   "execution_count": null,
   "metadata": {},
   "outputs": [],
   "source": [
    "# %load tp2/generated/trajopt_acc_ocp5\n",
    "### SOLVE\n",
    "opti.minimize(totalcost)\n",
    "opti.solver(\"ipopt\")  # set numerical backend\n",
    "opti.callback(lambda i: displayScene(opti.debug.value(var_xs[-1][:nq])))\n",
    "\n",
    "# Caution: in case the solver does not converge, we are picking the candidate values\n",
    "# at the last iteration in opti.debug, and they are NO guarantee of what they mean.\n",
    "try:\n",
    "    sol = opti.solve_limited()\n",
    "    sol_xs = [opti.value(var_x) for var_x in var_xs]\n",
    "    sol_as = [opti.value(var_a) for var_a in var_as]\n",
    "except:\n",
    "    print(\"ERROR in convergence, plotting debug info.\")\n",
    "    sol_xs = [opti.debug.value(var_x) for var_x in var_xs]\n",
    "    sol_as = [opti.debug.value(var_a) for var_a in var_as]"
   ]
  },
  {
   "cell_type": "markdown",
   "metadata": {},
   "source": [
    "And finally display the result."
   ]
  },
  {
   "cell_type": "code",
   "execution_count": null,
   "metadata": {},
   "outputs": [],
   "source": [
    "# %load tp2/generated/trajopt_acc_ocp6\n",
    "print(\"***** Display the resulting trajectory ...\")\n",
    "displayScene(robot.q0, 1)\n",
    "displayTraj([x[:nq] for x in sol_xs], DT)"
   ]
  },
  {
   "cell_type": "markdown",
   "metadata": {},
   "source": [
    "We can visualize the contact constraint by displaying the small displacement of the foot during the motion. It is not perfect, but still quite acceptable. Yet we reached the limit of Casadi+IpOpt, it is time to move to Crocoddyl."
   ]
  },
  {
   "cell_type": "code",
   "execution_count": null,
   "metadata": {},
   "outputs": [],
   "source": [
    "# %load tp2/generated/trajopt_acc_plot\n",
    "# Plotting the contact gaps\n",
    "h_pcontacts = []\n",
    "h_vcontacts = []\n",
    "h_acontacts = []\n",
    "for t in range(T):\n",
    "    x = sol_xs[t]\n",
    "    q = x[:nq]\n",
    "    v = x[nq:]\n",
    "    a = sol_as[t]\n",
    "    h_pcontacts.append(\n",
    "        np.concatenate([opti.value(dpcontacts[c.name](var_xs[t])) for c in contacts])\n",
    "    )\n",
    "    h_vcontacts.append(\n",
    "        np.concatenate([opti.value(vcontacts[c.name](var_xs[t])) for c in contacts])\n",
    "    )\n",
    "    h_acontacts.append(\n",
    "        np.concatenate(\n",
    "            [opti.value(acontacts[c.name](var_xs[t], var_as[t])) for c in contacts]\n",
    "        )\n",
    "    )\n",
    "\n",
    "\n",
    "import matplotlib.pylab as plt\n",
    "\n",
    "plt.ion()\n",
    "fig, ax = plt.subplots(2, 1, figsize=(6, 6))\n",
    "ax[0].plot(h_pcontacts)\n",
    "ax[0].set_title(\"delta position\")\n",
    "ax[0].axis((-2.45, 51.45, -0.5e-3, 0.5e-3))\n",
    "ax[1].plot(h_vcontacts)\n",
    "ax[1].set_title(\"velocity\")\n",
    "ax[1].axis((-2.45, 51.45, -0.006627568040194312, 0.007463128239663308))\n"
   ]
  },
  {
   "cell_type": "code",
   "execution_count": null,
   "metadata": {},
   "outputs": [],
   "source": []
  }
 ],
 "metadata": {
  "kernelspec": {
   "display_name": "Python 3 (ipykernel)",
   "language": "python",
   "name": "python3"
  },
  "language_info": {
   "codemirror_mode": {
    "name": "ipython",
    "version": 3
   },
   "file_extension": ".py",
   "mimetype": "text/x-python",
   "name": "python",
   "nbconvert_exporter": "python",
   "pygments_lexer": "ipython3",
   "version": "3.10.14"
  }
 },
 "nbformat": 4,
 "nbformat_minor": 4
}
