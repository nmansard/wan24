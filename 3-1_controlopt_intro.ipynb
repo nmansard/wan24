{
 "cells": [
  {
   "cell_type": "markdown",
   "metadata": {},
   "source": [
    "# An introduction to optimal control using Crocoddyl\n",
    "\n",
    "The goal of this notebook is to provide an introduction to optimal control and trajectory optimization, to solve two toy problems: a unicycle and an bicopter. At the end it gives an introduction to optimal control with hard cosntraints."
   ]
  },
  {
   "cell_type": "markdown",
   "metadata": {
    "jp-MarkdownHeadingCollapsed": true
   },
   "source": [
    "## Setup"
   ]
  },
  {
   "cell_type": "code",
   "execution_count": null,
   "metadata": {},
   "outputs": [],
   "source": [
    "import gepetuto.magic"
   ]
  },
  {
   "cell_type": "markdown",
   "metadata": {},
   "source": [
    "For this version of the introduction, we are going to use Crocoddyl V2.0.\n",
    "Crocoddyl stands for Contact robot control with differential dynamic programming library. We will need it for formulating and solving the optimal control problems. "
   ]
  },
  {
   "cell_type": "markdown",
   "metadata": {
    "jp-MarkdownHeadingCollapsed": true
   },
   "source": [
    "----\n",
    "## Starting example: the unicycle"
   ]
  },
  {
   "attachments": {},
   "cell_type": "markdown",
   "metadata": {
    "jp-MarkdownHeadingCollapsed": true
   },
   "source": [
    "![Schema of the unicycle model](tp3/unicycle.png)\n",
    "\n",
    "An unicycle represents a kinematic model of a car where it's only possible to move in two directions, i.e. it drives forward and turns on the spot. Its dynamics has nonholonomic constraints because it cannot move sideways. Remember that nonholonomic constraints are nonintegral and has the form $\\mathbf{f(q,\\dot{q})=0}$.\n",
    "\n",
    "In this example, we define an optimal-control problem for the classical unicycle problem. Our goal is to drive the unicycle towards the origin but at the same time not too fast. For that, the cost function is described as the sum between the distance to the origin and the system speed."
   ]
  },
  {
   "cell_type": "markdown",
   "metadata": {},
   "source": [
    "Basically, our optimal control problem has the following simulation model (ie predicting $x_{next}$ from current state $x$ and control $u$) and cost function:"
   ]
  },
  {
   "cell_type": "code",
   "execution_count": null,
   "metadata": {},
   "outputs": [],
   "source": [
    "import numpy as np\n",
    "x = np.random.rand(3)\n",
    "u = np.random.rand(2)\n",
    "\n",
    "# Unicycle dynamical model\n",
    "v,w = u\n",
    "c,s = np.cos(x[2]),np.sin(x[2])\n",
    "dt = 1e-2\n",
    "dx = np.array([ v*c, v*s, w ])\n",
    "xnext = x + dx*dt\n",
    "\n",
    "# Cost function: driving to origin (state) and reducing speed (control)\n",
    "stateWeight = 1\n",
    "ctrlWeight = 1\n",
    "costResiduals = np.concatenate([stateWeight*x,ctrlWeight*u])\n",
    "cost = .5* sum(costResiduals**2)"
   ]
  },
  {
   "cell_type": "markdown",
   "metadata": {},
   "source": [
    "### Crocoddyl model of the unicycle\n"
   ]
  },
  {
   "cell_type": "markdown",
   "metadata": {},
   "source": [
    "For this basic example, the unicycle model is coded in the library. We will just load it and use it. If you are very curious, have a look! It is in https://github.com/loco-3d/crocoddyl/blob/master/include/crocoddyl/core/actions/unicycle.hxx . We will show you below how a similar model can be developped in Python (easier for prototyping, but far less efficient)."
   ]
  },
  {
   "cell_type": "markdown",
   "metadata": {},
   "source": [
    "We create such a model with the following lines:"
   ]
  },
  {
   "cell_type": "code",
   "execution_count": null,
   "metadata": {},
   "outputs": [],
   "source": [
    "import crocoddyl\n",
    "model = crocoddyl.ActionModelUnicycle()\n",
    "data  = model.createData()"
   ]
  },
  {
   "cell_type": "markdown",
   "metadata": {},
   "source": [
    "The action model contains ... well ... the description of the dynamics and cost function. There you find also the action model parameters (here the time step and the cost weights). On the other hand, the data has the buffers where the results of the calculus are stored.\n",
    "\n",
    "We decided for this separation for an obvious reason that is given just below."
   ]
  },
  {
   "cell_type": "code",
   "execution_count": null,
   "metadata": {},
   "outputs": [],
   "source": [
    "model.costWeights = np.array([\n",
    "    1,   # state weight\n",
    "    1  # control weight\n",
    "])"
   ]
  },
  {
   "cell_type": "markdown",
   "metadata": {},
   "source": [
    "### Defining the shooting problem"
   ]
  },
  {
   "cell_type": "markdown",
   "metadata": {},
   "source": [
    "Now we have the action model, let's define the complete problem.\n",
    "A shooting problem is defined by the initial state from which computing the rollout and a sequence of action models."
   ]
  },
  {
   "cell_type": "code",
   "execution_count": null,
   "metadata": {},
   "outputs": [],
   "source": [
    "# %load tp3/generated/unicycle_toward_origin_hyperparams\n",
    "### HYPER PARAMS: horizon and initial state\n",
    "T  = 100\n",
    "x0 = np.array([-1,-1,1])\n"
   ]
  },
  {
   "cell_type": "code",
   "execution_count": null,
   "metadata": {},
   "outputs": [],
   "source": [
    "problem = crocoddyl.ShootingProblem(x0, [ model ] * T, model)"
   ]
  },
  {
   "cell_type": "markdown",
   "metadata": {},
   "source": [
    "Here we define a problem starting from $\\mathbf{x}_0$ with 20 timesteps (of 0.1 sec by default implementation of unicycle). The terminal action model is defined using the running action model.\n",
    "\n",
    "This defines the model, not any algorithm to solve it. The only computation that the problem can provide is to integrate the system for a given sequence of controls."
   ]
  },
  {
   "cell_type": "code",
   "execution_count": null,
   "metadata": {},
   "outputs": [],
   "source": [
    "us = [ np.array([1., .1]).T for t in range(T)]\n",
    "xs = problem.rollout(us)"
   ]
  },
  {
   "cell_type": "markdown",
   "metadata": {},
   "source": [
    "The plotUnicycle function plots the system as two arrows that represent the wheels"
   ]
  },
  {
   "cell_type": "code",
   "execution_count": null,
   "metadata": {},
   "outputs": [],
   "source": [
    "%matplotlib inline\n",
    "import matplotlib.pylab as plt\n",
    "from tp3.unicycle_utils import plotUnicycleSolution\n",
    "plotUnicycleSolution(xs)\n",
    "plt.axis([-3,1.,-2.,2.])"
   ]
  },
  {
   "cell_type": "markdown",
   "metadata": {},
   "source": [
    "### Solve the OCP"
   ]
  },
  {
   "cell_type": "markdown",
   "metadata": {},
   "source": [
    "The main solver is named SolverDDP. Other solvers exist, and you can also add other solvers (taken off the shelf, reimplemented from the literature and invented by yourselves). More on this in the second exercise. \n",
    "\n",
    "The DDP solver is initialized with the problem object and mostly contains the ddp.solve method. "
   ]
  },
  {
   "cell_type": "code",
   "execution_count": null,
   "metadata": {},
   "outputs": [],
   "source": [
    "# %load tp3/generated/unicycle_toward_origin_ddp\n",
    "# Select the solver for this problem\n",
    "ddp = crocoddyl.SolverDDP(problem)\n"
   ]
  },
  {
   "cell_type": "markdown",
   "metadata": {},
   "source": [
    "A useful tool, classical to many solvers, is the callback function, that will be called at every iteration. Here we set up two of them: the first will verbosely comment the solver progress, and the second log the progress for later exploitation in plots."
   ]
  },
  {
   "cell_type": "code",
   "execution_count": null,
   "metadata": {},
   "outputs": [],
   "source": [
    "# %load tp3/generated/unicycle_toward_origin_callback\n",
    "# Add solvers for verbosity and plots\n",
    "ddp.setCallbacks([crocoddyl.CallbackLogger(), crocoddyl.CallbackVerbose()])\n"
   ]
  },
  {
   "cell_type": "markdown",
   "metadata": {},
   "source": [
    "We can warm start it and tune the parameters, but for the simple unicycle, let's just solve it!"
   ]
  },
  {
   "cell_type": "code",
   "execution_count": null,
   "metadata": {},
   "outputs": [],
   "source": [
    "# %load tp3/generated/unicycle_toward_origin_solve\n",
    "done = ddp.solve()\n",
    "assert(done)"
   ]
  },
  {
   "cell_type": "markdown",
   "metadata": {},
   "source": [
    "Let's plot the result"
   ]
  },
  {
   "cell_type": "code",
   "execution_count": null,
   "metadata": {},
   "outputs": [],
   "source": [
    "plotUnicycleSolution(ddp.xs)\n",
    "plt.axis([-1.2,1.2,-1.2,1.2]);"
   ]
  },
  {
   "cell_type": "markdown",
   "metadata": {},
   "source": [
    "The solver journey is typically plotted like this."
   ]
  },
  {
   "cell_type": "code",
   "execution_count": null,
   "metadata": {},
   "outputs": [],
   "source": [
    "# %load tp3/generated/unicycle_toward_origin_plotlog\n",
    "log = ddp.getCallbacks()[0]\n",
    "crocoddyl.plotOCSolution(log.xs, log.us, figIndex=1, show=False)\n",
    "crocoddyl.plotConvergence(\n",
    "    log.costs,\n",
    "    log.pregs,\n",
    "    log.dregs,\n",
    "    log.grads,\n",
    "    log.stops,\n",
    "    log.steps,\n",
    "    figIndex=2,\n",
    "    show=False,\n",
    ")\n"
   ]
  },
  {
   "cell_type": "markdown",
   "metadata": {},
   "source": [
    "The terminal state chosen by the solver is:"
   ]
  },
  {
   "cell_type": "code",
   "execution_count": null,
   "metadata": {},
   "outputs": [],
   "source": [
    "print(ddp.xs[-1])"
   ]
  },
  {
   "cell_type": "markdown",
   "metadata": {},
   "source": [
    "### Well, the terminal state is not so nicely in the origin.\n",
    "\n",
    "Question 1: why?\n",
    "\n",
    "Question 2: How can you change this?\n",
    "\n",
    "Question 3: by changing the cost parameters, the time horizon and the initial position, can you trigger a maneuver?"
   ]
  },
  {
   "cell_type": "code",
   "execution_count": null,
   "metadata": {},
   "outputs": [],
   "source": [
    "# %load tp3/unicycle_toward_origin.py\n",
    "import crocoddyl\n",
    "import numpy as np\n",
    "import matplotlib.pylab as plt\n",
    "import unittest\n",
    "from tp3.unicycle_utils import plotUnicycleSolution\n",
    "\n",
    "# %jupyter_snippet hyperparams\n",
    "### HYPER PARAMS: horizon and initial state\n",
    "T  = 100\n",
    "x0 = np.array([0,-1,0])\n",
    "# %end_jupyter_snippet\n",
    "\n",
    "### PROBLEM DEFINITION\n",
    "\n",
    "model = crocoddyl.ActionModelUnicycle()\n",
    "# %jupyter_snippet termmodel\n",
    "model_term = crocoddyl.ActionModelUnicycle()\n",
    "\n",
    "model.costWeights = np.array([\n",
    "    1e-4,   # state weight\n",
    "    1  # control weight\n",
    "]).T\n",
    "model_term.costWeights = np.array([\n",
    "    10,   # state weight\n",
    "    0  # control weight\n",
    "]).T\n",
    "# %end_jupyter_snippet\n",
    "\n",
    "# Define the optimal control problem.\n",
    "problem = crocoddyl.ShootingProblem(x0, [ model ] * T, model_term)\n",
    "# %jupyter_snippet ddp\n",
    "# Select the solver for this problem\n",
    "ddp = crocoddyl.SolverDDP(problem)\n",
    "# %end_jupyter_snippet\n",
    "\n",
    "# %jupyter_snippet callback\n",
    "# Add solvers for verbosity and plots\n",
    "ddp.setCallbacks([crocoddyl.CallbackLogger(), crocoddyl.CallbackVerbose()])\n",
    "# %end_jupyter_snippet\n",
    "\n",
    "### SOLVE THE PROBLEM\n",
    "\n",
    "# %jupyter_snippet solve\n",
    "done = ddp.solve()\n",
    "assert(done)\n",
    "# %end_jupyter_snippet\n",
    "\n",
    "### PLOT \n",
    "\n",
    "# %jupyter_snippet plotlog\n",
    "log = ddp.getCallbacks()[0]\n",
    "crocoddyl.plotOCSolution(log.xs, log.us, figIndex=1, show=False)\n",
    "crocoddyl.plotConvergence(\n",
    "    log.costs,\n",
    "    log.pregs,\n",
    "    log.dregs,\n",
    "    log.grads,\n",
    "    log.stops,\n",
    "    log.steps,\n",
    "    figIndex=2,\n",
    "    show=False,\n",
    ")\n",
    "# %end_jupyter_snippet\n",
    "\n",
    "plotUnicycleSolution(log.xs)\n",
    "\n",
    "print('Type plt.show() to display the result.')\n",
    "\n",
    "### TEST ZONE ############################################################\n",
    "### This last part is to automatically validate the versions of this example.\n",
    "class UnicycleTest(unittest.TestCase):\n",
    "    def test_logs(self):\n",
    "        print(self.__class__.__name__)\n",
    "        self.assertTrue( len(ddp.xs) == len(ddp.us)+1 )\n",
    "        self.assertTrue( np.allclose(ddp.xs[0],ddp.problem.x0) )\n",
    "        self.assertTrue( ddp.stop<1e-6 )\n",
    "        \n",
    "if __name__ == \"__main__\":\n",
    "    UnicycleTest().test_logs()\n"
   ]
  },
  {
   "cell_type": "markdown",
   "metadata": {
    "jp-MarkdownHeadingCollapsed": true
   },
   "source": [
    "----\n",
    "## Defining your own (bicopter) model"
   ]
  },
  {
   "cell_type": "markdown",
   "metadata": {
    "jp-MarkdownHeadingCollapsed": true
   },
   "source": [
    "Unicycle is a very basic example. Most interesting problems in robotics are written at the acceleration level to easily convey forces and action-reaction phenomena. We will now consider a bicopter model (i.e. a UAV evolving in a vertical plane). It is composed of two rotors producing pure orthogonal forces, hence leading to linear and angular accelerations resulting from the thrust and gravity effects. "
   ]
  },
  {
   "cell_type": "markdown",
   "metadata": {},
   "source": [
    "### Bicopter equations of motion"
   ]
  },
  {
   "cell_type": "markdown",
   "metadata": {
    "jp-MarkdownHeadingCollapsed": true
   },
   "source": [
    "The bicopter is defined by its mass $m$, wingspan $l$ (distance from the copter center to each propeller), inertia $i=l^2m$ and gravity $g$. The state $x=(q,v)$ is the concatenation of position and velocity of the copter, with $q=(x_1,x_2,\\theta)$, $x_1$ the horizontal position, $x_2$ the vertical position and $\\theta$ the angle) and  $v=(v_1,v_2,\\omega)$ the horizontal, vertical and angle velocities.\n",
    "The control is the thrust (vertical forces) of right then leg propellers $(u=(f_r, f_l)$).\n",
    "\n",
    "The linear and angular forces due to the propellers are easy to express in the local frame:\n",
    "$$f = \\left(0, f_r+f_l, (f_l-f_r) l \\right)$$\n",
    "The acceleration in world frame is then obtained by rotating the linear forces, dividing by mass and inertia and adding the gravity:\n",
    "$$a = \\left(\\frac{f[1] \\sin(\\theta)}{m}, \\frac{f[1] \\cos(\\theta)}{m}-g, \\frac{f[2]}{i} \\right)$$"
   ]
  },
  {
   "cell_type": "markdown",
   "metadata": {},
   "source": [
    "### Integration of the motion equations\n",
    "Like for the unicyle model, we need to integrate this quantity to get the next state $x_{next}$ from the current state $x$ and control $u$. Now, the bicopter is in acceleration, so the integration should be repeated twice (from acceleration to position). We could do that directly in the action model. Yet Crocoddyl is proposing to split this in two different classes, specifically for acceleration-based models.\n",
    "- The *differential* action model (DAM) implement the (acceleration) equation of motion and integral cost written as a differential.\n",
    "- The *integral* action model (IAM) takes the differential and numerically integrates it. We mostly propose to use Euler integration (although RK4 integration is also available, and other integrator can be implemented). The next state $x_+=(q_+,v_+)$ is then obtained from $x=(q,v)$ and the computed acceleration:\n",
    "$$v_+ = v + a \\Delta t$$\n",
    "$$q_+ = q + v_+ \\Delta t$$\n",
    "with $\\Delta t$ the integration step, defined as a hyperparameter (tune it with the trade-off between numerical accuracy --pleading for small $\\Delta t$-- and computational efficiency --pleading for large $\\Delta t$). Note the $v_+$ in the second row: we call that *implicit* Euler integration, and it is marginally more stable.\n"
   ]
  },
  {
   "cell_type": "markdown",
   "metadata": {},
   "source": [
    "In Crocoddyl, we often write the costs as a sum of square. The cost $\\ell(x,u)$ is typically defined as:\n",
    "$$\\ell(x,u) = \\frac{1}{2} r(x,u)^T r(x,u)$$\n",
    "with $r(x,u)$ is called the residuals.\n",
    "This has the practical consequence that we can approximate the Hessian of the cost $H$ can be approximated to the squared of the residual Jacobian, e.g.:\n",
    "$$\\frac{\\partial^2 \\ell}{\\partial x^2} \\approx \\frac{\\partial r}{\\partial x}^T \\frac{\\partial r}{\\partial x}$$"
   ]
  },
  {
   "cell_type": "markdown",
   "metadata": {},
   "source": [
    "For the copter, we propose to put quite a lot of terms in $r$ so that you can *play* with many hyperparameters to tune:\n",
    "$$r=(x_1,x_2,\\sin(\\theta),1-\\cos(\\theta),v,u,a) \\in \\mathbb{R}^{12}$$"
   ]
  },
  {
   "cell_type": "markdown",
   "metadata": {},
   "source": [
    "### Hyperparameters"
   ]
  },
  {
   "cell_type": "markdown",
   "metadata": {},
   "source": [
    "The optimal control will be defined by the following hyperparameters."
   ]
  },
  {
   "cell_type": "code",
   "execution_count": null,
   "metadata": {},
   "outputs": [],
   "source": [
    "# %load tp3/generated/bicopter_toward_origin_hyperparams\n",
    "### HYPER PARAMS: horizon and initial state\n",
    "timeStep = 0.01\n",
    "x0 = np.array([1.0, 0.0, 0.0,  0.0, 0.0, 0.0])\n",
    "T = 50\n"
   ]
  },
  {
   "cell_type": "markdown",
   "metadata": {},
   "source": [
    "### Syntax of the DAM"
   ]
  },
  {
   "cell_type": "markdown",
   "metadata": {},
   "source": [
    "Below is a template for the DAM. Implement the equation of motion in the *calc* function. It must compute the acceleration and store it in +data.xout+ (array of size 3); the residual and store it in +data.residual+ (array of size 12); and the cost as half of the sum of $r$ squared."
   ]
  },
  {
   "cell_type": "code",
   "execution_count": null,
   "metadata": {},
   "outputs": [],
   "source": [
    "# %load tp3/generated/bicopter_toward_origin_dam_header\n",
    "class DifferentialActionModelBicopter(crocoddyl.DifferentialActionModelAbstract):\n",
    "\n",
    "    def __init__(self):\n",
    "        '''\n",
    "        Init on top of the DAM class. \n",
    "        Mostly set up the hyperparameters of this model (mass, length, cost, etc).\n",
    "        ng=0 says we have 0 constraints.\n",
    "        '''\n",
    "        crocoddyl.DifferentialActionModelAbstract.__init__(\n",
    "            self, crocoddyl.StateVector(6), nu=2, nr=12, ng=0\n",
    "        )\n",
    "        self.unone = np.zeros(self.nu)\n",
    "\n",
    "        self.span = .2\n",
    "        self.mass = 2.\n",
    "        self.g = 10\n",
    "        self.inertia = self.mass*self.span**2\n",
    "\n",
    "        self.costWeights = [\n",
    "            0.1, # x\n",
    "            0.1, # z\n",
    "            .10, # s\n",
    "            .10, # c\n",
    "            0.001, # vx\n",
    "            0.001, # vz\n",
    "            0.001, # w\n",
    "            0.0, # fr\n",
    "            0.0, # fl\n",
    "            0.001,0.001,0.001, # a\n",
    "        ]  # sin, 1-cos, x, xdot, thdot, f\n",
    "\n",
    "    def calc(self, data, x, u=None):\n",
    "        if u is None:\n",
    "            u = model.unone\n",
    "        # Getting the state and control variables\n",
    "        x1,x2,th,v1,v2,w = x\n",
    "        fr,fl = u\n",
    "\n",
    "        # Shortname for system parameters\n",
    "        mass,span,g,inertia=self.mass,self.span,self.g,self.inertia\n",
    "        s, c = np.sin(th), np.cos(th)\n",
    "\n",
    "        # Defining the equation of motions\n",
    "        # Force (fx,fz,tauy) in local frame\n",
    "        loc_f = np.array([0, fr+fl, (fl-fr)*span])\n",
    "        # Acceleration (x,z,th) in world frame\n",
    "        data.xout = np.array([\n",
    "            -loc_f[1]*s/mass,\n",
    "            loc_f[1]*c/mass - g,\n",
    "            loc_f[2]/inertia\n",
    "        ])\n",
    "\n",
    "        # Computing the cost residual and value\n",
    "        data.r = self.costWeights * np.array([x1, x2, s, 1 - c,\n",
    "                                              v1, v2, w,\n",
    "                                              fr, fl,\n",
    "                                              data.xout[0], data.xout[1], data.xout[2] ])\n",
    "        data.cost = 0.5 * sum(data.r ** 2)\n",
    "\n"
   ]
  },
  {
   "cell_type": "markdown",
   "metadata": {},
   "source": [
    "Fill this template by adding your own code. Then create a model object."
   ]
  },
  {
   "cell_type": "code",
   "execution_count": null,
   "metadata": {},
   "outputs": [],
   "source": [
    "# %load tp3/generated/bicopter_toward_origin_dam\n",
    "# Creating the DAM for the bicopter\n",
    "dam = DifferentialActionModelBicopter()\n"
   ]
  },
  {
   "cell_type": "markdown",
   "metadata": {},
   "source": [
    "### Finite differences"
   ]
  },
  {
   "cell_type": "markdown",
   "metadata": {},
   "source": [
    "You can also define a +calcDiff+ method, with the same signature of +calc+, to compute the derivatives and store them in the corresponding fields of +data+. This is more advanced, useful for accuracy and efficiency. For today, we are rather going to compute the derivatives by finite differencing."
   ]
  },
  {
   "cell_type": "code",
   "execution_count": null,
   "metadata": {},
   "outputs": [],
   "source": [
    "# %load tp3/generated/bicopter_toward_origin_dam_nd\n",
    "# Using NumDiff for computing the derivatives. We specify the\n",
    "# withGaussApprox=True to have approximation of the Hessian based on the\n",
    "# Jacobian of the cost residuals.\n",
    "damND = crocoddyl.DifferentialActionModelNumDiff(dam, True)\n"
   ]
  },
  {
   "cell_type": "markdown",
   "metadata": {},
   "source": [
    "### Syntax of the integrator"
   ]
  },
  {
   "cell_type": "markdown",
   "metadata": {},
   "source": [
    "The DAM now just has to be given to a integrator \"IAM\" model."
   ]
  },
  {
   "cell_type": "code",
   "execution_count": null,
   "metadata": {},
   "outputs": [],
   "source": [
    "# %load tp3/generated/bicopter_toward_origin_iam\n",
    "# Getting the IAM using the simpletic Euler rule\n",
    "iam = crocoddyl.IntegratedActionModelEuler(damND, timeStep)\n"
   ]
  },
  {
   "cell_type": "markdown",
   "metadata": {},
   "source": [
    "### Terminal model"
   ]
  },
  {
   "cell_type": "markdown",
   "metadata": {},
   "source": [
    "We suggest you use different weights for the terminal model."
   ]
  },
  {
   "cell_type": "code",
   "execution_count": null,
   "metadata": {},
   "outputs": [],
   "source": [
    "# %load tp3/generated/bicopter_toward_origin_termmodel\n",
    "# Similarly creates a terminal model, but change the cost weights\n",
    "terminalDam = DifferentialActionModelBicopter()\n",
    "terminalDamND = crocoddyl.DifferentialActionModelNumDiff(terminalDam, True)\n",
    "terminalIam = crocoddyl.IntegratedActionModelEuler(terminalDamND)\n",
    "\n",
    "terminalDam.costWeights[0] = 100 # horizontal position\n",
    "terminalDam.costWeights[1] = 100 # vertical position\n",
    "terminalDam.costWeights[2] = 100.0 # angle sin (first order)\n",
    "terminalDam.costWeights[3] = 100.0 # angle cos (second order)\n",
    "terminalDam.costWeights[4] = 100 # horizontal velocity\n",
    "terminalDam.costWeights[5] = 100 # vertical velocity\n",
    "terminalDam.costWeights[6] = 100 # angular velocity\n"
   ]
  },
  {
   "cell_type": "markdown",
   "metadata": {},
   "source": [
    "### Definition of the optimal control problem"
   ]
  },
  {
   "cell_type": "markdown",
   "metadata": {},
   "source": [
    "Now, you classically do:"
   ]
  },
  {
   "cell_type": "code",
   "execution_count": null,
   "metadata": {},
   "outputs": [],
   "source": [
    "# %load tp3/generated/bicopter_toward_origin_ocp\n",
    "# Define the optimal control problem.\n",
    "problem = crocoddyl.ShootingProblem(x0, [iam] * T, terminalIam)\n",
    "\n",
    "# Solving it using DDP\n",
    "ddp = crocoddyl.SolverDDP(problem)\n",
    "ddp.setCallbacks([crocoddyl.CallbackLogger(), crocoddyl.CallbackVerbose()])\n",
    "\n",
    "### SOLVE THE PROBLEM\n",
    "\n",
    "done = ddp.solve([], [], 300)\n",
    "assert(done)\n"
   ]
  },
  {
   "cell_type": "markdown",
   "metadata": {},
   "source": [
    "### Visualize the solution\n",
    "Plot ..."
   ]
  },
  {
   "cell_type": "code",
   "execution_count": null,
   "metadata": {},
   "outputs": [],
   "source": [
    "from tp3.bicopter_utils import plotBicopterSolution,ViewerBicopter"
   ]
  },
  {
   "cell_type": "code",
   "execution_count": null,
   "metadata": {},
   "outputs": [],
   "source": [
    "# %load tp3/generated/bicopter_toward_origin_plot\n",
    "log = ddp.getCallbacks()[0]\n",
    "crocoddyl.plotOCSolution(log.xs, log.us, figIndex=1, show=False)\n",
    "crocoddyl.plotConvergence(\n",
    "    log.costs,\n",
    "    log.pregs,\n",
    "    log.dregs,\n",
    "    log.grads,\n",
    "    log.stops,\n",
    "    log.steps,\n",
    "    figIndex=2,\n",
    "    show=False,\n",
    ")\n",
    "\n",
    "plotBicopterSolution(list(ddp.xs)[::3])\n"
   ]
  },
  {
   "cell_type": "markdown",
   "metadata": {},
   "source": [
    "If you want, you can see the movement in a 3D visualization. "
   ]
  },
  {
   "cell_type": "code",
   "execution_count": null,
   "metadata": {},
   "outputs": [],
   "source": [
    "viz = ViewerBicopter()\n",
    "viz.viz.viewer.jupyter_cell()"
   ]
  },
  {
   "cell_type": "code",
   "execution_count": null,
   "metadata": {},
   "outputs": [],
   "source": [
    "viz.displayTrajectory(ddp.xs,timeStep*10)"
   ]
  },
  {
   "cell_type": "markdown",
   "metadata": {
    "jp-MarkdownHeadingCollapsed": true
   },
   "source": [
    "----\n",
    "## (optional) A first taste of OCP with constraints"
   ]
  },
  {
   "cell_type": "markdown",
   "metadata": {},
   "source": [
    "### Setup\n",
    "For this optional part, you will need an additional library call MIM Solvers, available in package [cmeel-mim-solvers](https://pypi.org/project/cmeel-mim-solvers/)."
   ]
  },
  {
   "cell_type": "code",
   "execution_count": null,
   "metadata": {},
   "outputs": [],
   "source": [
    "import mim_solvers"
   ]
  },
  {
   "cell_type": "markdown",
   "metadata": {},
   "source": [
    "### Model"
   ]
  },
  {
   "cell_type": "markdown",
   "metadata": {
    "jp-MarkdownHeadingCollapsed": true
   },
   "source": [
    "The bicopter is a physical system that cannot apply negative propeller forces. \n",
    "We can make that explicit with a hard constraint. The DDP solver cannot tackle that, but more advanced solvers can. More on this in the next notebook.\n",
    "\n",
    "Here we just give a quick introduction about how to add constraints to more advanced solver. Let's take the example of adding the constraints $f_r\\ge 0$, $f_l\\ge 0$.\n",
    "\n",
    "This is a very simple introduction to the constraint solver, with very few details, mostly an example. We put it because it is nice to use and logically follows the work on the unconstrained (then unrealistic) bicopter. If you are curious to know more, you need to process the second notebook, then come back here to review the example again. But you should be able to quickly browse this example first."
   ]
  },
  {
   "cell_type": "markdown",
   "metadata": {},
   "source": [
    "### Define a DAM with constraints"
   ]
  },
  {
   "cell_type": "markdown",
   "metadata": {
    "jp-MarkdownHeadingCollapsed": true
   },
   "source": [
    "First, the DAM class must be defined with ng=2.\n",
    "\n",
    "Then the right-hand terms of the constraints must be evaluated by the +calc+ function and stored in +data.g+ (which is a +np.array+ of size 2)."
   ]
  },
  {
   "cell_type": "code",
   "execution_count": null,
   "metadata": {},
   "outputs": [],
   "source": [
    "# %load tp3/generated/bicopter_toward_origin_with_constraints_dam\n",
    "class DifferentialActionModelBicopter(crocoddyl.DifferentialActionModelAbstract):\n",
    "\n",
    "    def __init__(self):\n",
    "        '''\n",
    "        Init on top of the DAM class. \n",
    "        Mostly set up the hyperparameters of this model (mass, length, cost, etc).\n",
    "        '''\n",
    "        crocoddyl.DifferentialActionModelAbstract.__init__(\n",
    "            self, crocoddyl.StateVector(6), nu=2, nr=12, ng=2\n",
    "        )\n",
    "        self.unone = np.zeros(self.nu)\n",
    "\n",
    "        self.span = .2\n",
    "        self.mass = 2.\n",
    "        self.g = 10\n",
    "        self.inertia = self.mass*self.span**2\n",
    "\n",
    "        self.costWeights = [\n",
    "            0.1, # x\n",
    "            0.1, # z\n",
    "            .10, # s\n",
    "            .10, # c\n",
    "            0.001, # vx\n",
    "            0.001, # vz\n",
    "            0.001, # w\n",
    "            0.0, # fr\n",
    "            0.0, # fl\n",
    "            0.001,0.001,0.001, # a\n",
    "        ]  # sin, 1-cos, x, xdot, thdot, f\n",
    "\n",
    "    def calc(self, data, x, u=None):\n",
    "        if u is None:\n",
    "            u = model.unone\n",
    "        # Getting the state and control variables\n",
    "        x1,x2,th,v1,v2,w = x\n",
    "        fr,fl = u\n",
    "\n",
    "        # Shortname for system parameters\n",
    "        mass,span,g,inertia=self.mass,self.span,self.g,self.inertia\n",
    "        s, c = np.sin(th), np.cos(th)\n",
    "\n",
    "        # Defining the equation of motions\n",
    "        # Force (fx,fz,tauy) in local frame\n",
    "        loc_f = np.array([0, fr+fl, (fl-fr)*span])\n",
    "        # Acceleration (x,z,th) in world frame\n",
    "        data.xout = np.array([\n",
    "            -loc_f[1]*s/mass,\n",
    "            loc_f[1]*c/mass - g,\n",
    "            loc_f[2]/inertia\n",
    "        ])\n",
    "\n",
    "        # Computing the cost residual and value\n",
    "        data.r = self.costWeights * np.array([x1, x2, s, 1 - c,\n",
    "                                              v1, v2, w,\n",
    "                                              fr, fl,\n",
    "                                              data.xout[0], data.xout[1], data.xout[2] ])\n",
    "        data.cost = 0.5 * sum(data.r ** 2)\n",
    "\n",
    "        data.g = np.array([u[0], u[1]])\n",
    "\n",
    "    def calcDiff(self, data, x, u=None):\n",
    "        # Advance user might implement the derivatives. Here\n",
    "        # we will rely on finite differences.\n",
    "        pass\n"
   ]
  },
  {
   "cell_type": "markdown",
   "metadata": {},
   "source": [
    "You can now create a DAM that accepts constraints bounds."
   ]
  },
  {
   "cell_type": "code",
   "execution_count": null,
   "metadata": {},
   "outputs": [],
   "source": [
    "# %load tp3/generated/bicopter_toward_origin_with_constraints_dam_with_bounds\n",
    "# Creating the DAM for the bicopter with constrains\n",
    "dam = DifferentialActionModelBicopter()\n",
    "\n",
    "# Using NumDiff for computing the derivatives. We specify the\n",
    "# withGaussApprox=True to have approximation of the Hessian based on the\n",
    "# Jacobian of the cost residuals.\n",
    "damND = crocoddyl.DifferentialActionModelNumDiff(dam, True)\n"
   ]
  },
  {
   "cell_type": "markdown",
   "metadata": {},
   "source": [
    "Finally, the upper and lower bounds (left-hard term in our case) must be set once the DAM object is created. "
   ]
  },
  {
   "cell_type": "code",
   "execution_count": null,
   "metadata": {},
   "outputs": [],
   "source": [
    "damND.g_lb = np.array([0, 0])\n",
    "damND.g_ub = np.array([20, 20])# %end_jupyter_snippet"
   ]
  },
  {
   "cell_type": "markdown",
   "metadata": {},
   "source": [
    "That's mostly the only change in the syntax, now the same problem as before can be formulated with forces bounds."
   ]
  },
  {
   "cell_type": "code",
   "execution_count": null,
   "metadata": {},
   "outputs": [],
   "source": [
    "# %load tp3/generated/bicopter_toward_origin_with_constraints_problem\n",
    "# Getting the IAM using the simpletic Euler rule\n",
    "iam = crocoddyl.IntegratedActionModelEuler(damND, timeStep)\n",
    "\n",
    "# Similarly creates a terminal model, but change the cost weights\n",
    "terminalDam = DifferentialActionModelBicopter()\n",
    "terminalDamND = crocoddyl.DifferentialActionModelNumDiff(terminalDam, True)\n",
    "terminalIam = crocoddyl.IntegratedActionModelEuler(terminalDamND)\n",
    "\n",
    "terminalDam.costWeights[0] = 100 # horizontal position\n",
    "terminalDam.costWeights[1] = 100 # vertical position\n",
    "terminalDam.costWeights[2] = 100.0 # angle sin (first order)\n",
    "terminalDam.costWeights[3] = 100.0 # angle cos (second order)\n",
    "terminalDam.costWeights[4] = 100 # horizontal velocity\n",
    "terminalDam.costWeights[5] = 100 # vertical velocity\n",
    "terminalDam.costWeights[6] = 100 # angular velocity\n"
   ]
  },
  {
   "cell_type": "markdown",
   "metadata": {},
   "source": [
    "### Define a solver that accepts constraints\n",
    "DDP will just skip your constraints, unnoticed. We will use here the MIM SQP solver.\n",
    "First import the MIM solver package."
   ]
  },
  {
   "cell_type": "markdown",
   "metadata": {},
   "source": [
    "This is an example of configuration of this solver."
   ]
  },
  {
   "cell_type": "code",
   "execution_count": null,
   "metadata": {},
   "outputs": [],
   "source": [
    "T=300"
   ]
  },
  {
   "cell_type": "code",
   "execution_count": null,
   "metadata": {},
   "outputs": [],
   "source": [
    "# %load tp3/generated/bicopter_toward_origin_with_constraints_ocp\n",
    "# Define the optimal control problem.\n",
    "problem = crocoddyl.ShootingProblem(x0, [iam] * T, terminalIam)\n",
    "\n",
    "# Solving it using DDP\n",
    "csolver = mim_solvers.SolverCSQP(problem)\n",
    "MAX_ITER = 300\n",
    "csolver.termination_tolerance = 1e-4\n",
    "csolver.with_callbacks = True\n",
    "csolver.use_filter_line_search = True\n",
    "csolver.filter_size = MAX_ITER\n",
    "csolver.eps_abs = 1e-5\n",
    "csolver.eps_rel = 0.0\n",
    "csolver.max_qp_iters = 10000\n",
    "    \n",
    "### SOLVE THE PROBLEM\n",
    "done = csolver.solve([x0]*(T+1), [np.zeros(2)]*T, MAX_ITER)\n",
    "assert(done)\n"
   ]
  },
  {
   "cell_type": "code",
   "execution_count": null,
   "metadata": {},
   "outputs": [],
   "source": [
    "problem.runningDatas[0].g, csolver.us[0]"
   ]
  },
  {
   "cell_type": "code",
   "execution_count": null,
   "metadata": {},
   "outputs": [],
   "source": [
    "crocoddyl.plotOCSolution(csolver.xs, csolver.us, figIndex=1, show=False)\n",
    "plt.figure()\n",
    "plotBicopterSolution(list(csolver.xs)[::3])\n"
   ]
  },
  {
   "cell_type": "markdown",
   "metadata": {
    "jp-MarkdownHeadingCollapsed": true
   },
   "source": [
    "----\n",
    "## Conclusion"
   ]
  },
  {
   "cell_type": "markdown",
   "metadata": {},
   "source": [
    "Like the unicycle, you can similarly play with the copter, changing the initial conditions or the weights, which should trigger different maneuvers or even strange behaviors. Remember this is a local optimization solver, which you better warm start with a sound behavior when trying to achieve something fancy.\n",
    "\n",
    "In this work, you drove you to use the basic part of Crocoddyl API: the basic solver DDP, and the basic front end. For the front end, many features based on Pinocchio are implemented. For the solvers, other more advanced solvers have been added, and we hope many more are to come. We will introduce you to these more advanced features in the next practicals, featuring a manipulator robot."
   ]
  }
 ],
 "metadata": {
  "kernelspec": {
   "display_name": "Python 3 (ipykernel)",
   "language": "python",
   "name": "python3"
  },
  "language_info": {
   "codemirror_mode": {
    "name": "ipython",
    "version": 3
   },
   "file_extension": ".py",
   "mimetype": "text/x-python",
   "name": "python",
   "nbconvert_exporter": "python",
   "pygments_lexer": "ipython3",
   "version": "3.10.14"
  }
 },
 "nbformat": 4,
 "nbformat_minor": 4
}
