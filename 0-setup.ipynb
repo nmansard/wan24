{
 "cells": [
  {
   "cell_type": "markdown",
   "id": "1424ad8c-175f-4d2b-9584-316102b0b717",
   "metadata": {},
   "source": [
    "# Check your setup\n",
    "This notebook is a simple sanity check of your installation. Just run it, visualize Talos, say hi and finish."
   ]
  },
  {
   "cell_type": "code",
   "execution_count": 1,
   "id": "4f577287-8f64-44cd-8bf8-5b45270d3eea",
   "metadata": {},
   "outputs": [
    {
     "name": "stdout",
     "output_type": "stream",
     "text": [
      "NB: as for all the tutorials, a magic command %do_not_load is introduced to hide\n",
      "    the solutions to some questions. Change it for %load if you want to see (and\n",
      "    execute) the solution.\n"
     ]
    }
   ],
   "source": [
    "import gepetuto.magic"
   ]
  },
  {
   "cell_type": "code",
   "execution_count": 2,
   "id": "01353e2d-4ff1-499b-9756-0331f44a231c",
   "metadata": {},
   "outputs": [],
   "source": [
    "from math import pi\n",
    "\n",
    "import casadi\n",
    "from pinocchio import casadi as cpin\n",
    "from ipywidgets import interact\n",
    "from example_robot_data import load\n",
    "from pinocchio.visualize import MeshcatVisualizer"
   ]
  },
  {
   "cell_type": "code",
   "execution_count": 3,
   "id": "0d60d7bb-d25f-47b0-9335-b25954fbfefb",
   "metadata": {},
   "outputs": [
    {
     "name": "stdout",
     "output_type": "stream",
     "text": [
      "You can open the visualizer by visiting the following URL:\n",
      "http://127.0.0.1:7000/static/\n"
     ]
    },
    {
     "data": {
      "text/html": [
       "\n",
       "            <div style=\"height: 400px; width: 100%; overflow-x: auto; overflow-y: hidden; resize: both\">\n",
       "            <iframe src=\"http://127.0.0.1:7000/static/\" style=\"width: 100%; height: 100%; border: none\"></iframe>\n",
       "            </div>\n",
       "            "
      ],
      "text/plain": [
       "<IPython.core.display.HTML object>"
      ]
     },
     "execution_count": 3,
     "metadata": {},
     "output_type": "execute_result"
    }
   ],
   "source": [
    "talos = load(\"talos\")\n",
    "viz = MeshcatVisualizer(talos.model, talos.collision_model, talos.visual_model)\n",
    "viz.initViewer(loadModel=True)\n",
    "viz.viewer.jupyter_cell()"
   ]
  },
  {
   "cell_type": "code",
   "execution_count": 4,
   "id": "d2568e35-064d-4bec-9af4-a40b9ef68c99",
   "metadata": {},
   "outputs": [],
   "source": [
    "q0 = talos.q0\n",
    "viz.display(q0)"
   ]
  },
  {
   "cell_type": "code",
   "execution_count": 5,
   "id": "5fd224c4-8b75-435d-b0b7-fcd545cb66cc",
   "metadata": {},
   "outputs": [
    {
     "data": {
      "application/vnd.jupyter.widget-view+json": {
       "model_id": "439b8b82fb604cbbb872033fda7d371a",
       "version_major": 2,
       "version_minor": 0
      },
      "text/plain": [
       "interactive(children=(FloatSlider(value=0.0, description='shoulder', max=0.5, min=-0.5, step=0.01), Output()),…"
      ]
     },
     "metadata": {},
     "output_type": "display_data"
    }
   ],
   "source": [
    "@interact(shoulder=(-0.5, 0.5, 0.01))\n",
    "def say_hi(shoulder=0):\n",
    "    q0[30] = pi - shoulder\n",
    "    viz.display(q0)"
   ]
  },
  {
   "cell_type": "code",
   "execution_count": 6,
   "id": "ba9fe28e-6083-4c79-8dee-ab62ae9a7d37",
   "metadata": {},
   "outputs": [],
   "source": [
    "differentiable_talos = cpin.Model(talos.model)\n",
    "differentiable_data = differentiable_talos.createData()\n",
    "cpin.forwardKinematics(differentiable_talos, differentiable_data, casadi.SX(q0))"
   ]
  },
  {
   "cell_type": "code",
   "execution_count": null,
   "id": "8424e7f0-a03b-4867-9325-bc0efc84db60",
   "metadata": {},
   "outputs": [],
   "source": []
  },
  {
   "cell_type": "code",
   "execution_count": null,
   "id": "a12736d6-2fdd-499c-9333-49bfb48d9794",
   "metadata": {},
   "outputs": [],
   "source": []
  }
 ],
 "metadata": {
  "kernelspec": {
   "display_name": "Python 3 (ipykernel)",
   "language": "python",
   "name": "python3"
  },
  "language_info": {
   "codemirror_mode": {
    "name": "ipython",
    "version": 3
   },
   "file_extension": ".py",
   "mimetype": "text/x-python",
   "name": "python",
   "nbconvert_exporter": "python",
   "pygments_lexer": "ipython3",
   "version": "3.10.14"
  }
 },
 "nbformat": 4,
 "nbformat_minor": 5
}
