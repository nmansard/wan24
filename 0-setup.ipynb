{
 "cells": [
  {
   "cell_type": "markdown",
   "id": "1424ad8c-175f-4d2b-9584-316102b0b717",
   "metadata": {},
   "source": [
    "# Check your setup\n",
    "This notebook is a simple sanity check of your installation. Just run it, visualize Talos, say hi and finish."
   ]
  },
  {
   "cell_type": "code",
   "execution_count": null,
   "id": "4f577287-8f64-44cd-8bf8-5b45270d3eea",
   "metadata": {},
   "outputs": [],
   "source": [
    "import gepetuto.magic"
   ]
  },
  {
   "cell_type": "code",
   "execution_count": null,
   "id": "01353e2d-4ff1-499b-9756-0331f44a231c",
   "metadata": {},
   "outputs": [],
   "source": [
    "from math import pi\n",
    "\n",
    "import casadi\n",
    "from pinocchio import casadi as cpin\n",
    "from ipywidgets import interact\n",
    "from example_robot_data import load\n",
    "from pinocchio.visualize import MeshcatVisualizer"
   ]
  },
  {
   "cell_type": "code",
   "execution_count": null,
   "id": "0d60d7bb-d25f-47b0-9335-b25954fbfefb",
   "metadata": {},
   "outputs": [],
   "source": [
    "talos = load(\"talos\")\n",
    "viz = MeshcatVisualizer(talos.model, talos.collision_model, talos.visual_model)\n",
    "viz.initViewer(loadModel=True)\n",
    "viz.viewer.jupyter_cell()"
   ]
  },
  {
   "cell_type": "code",
   "execution_count": null,
   "id": "d2568e35-064d-4bec-9af4-a40b9ef68c99",
   "metadata": {},
   "outputs": [],
   "source": [
    "q0 = talos.q0\n",
    "viz.display(q0)"
   ]
  },
  {
   "cell_type": "code",
   "execution_count": null,
   "id": "5fd224c4-8b75-435d-b0b7-fcd545cb66cc",
   "metadata": {},
   "outputs": [],
   "source": [
    "@interact(shoulder=(-0.5, 0.5, 0.01))\n",
    "def say_hi(shoulder=0):\n",
    "    q0[30] = pi - shoulder\n",
    "    viz.display(q0)"
   ]
  },
  {
   "cell_type": "code",
   "execution_count": null,
   "id": "ba9fe28e-6083-4c79-8dee-ab62ae9a7d37",
   "metadata": {},
   "outputs": [],
   "source": [
    "differentiable_talos = cpin.Model(talos.model)\n",
    "differentiable_data = differentiable_talos.createData()\n",
    "cpin.forwardKinematics(differentiable_talos, differentiable_data, casadi.SX(q0))"
   ]
  }
 ],
 "metadata": {
  "kernelspec": {
   "display_name": "Python 3 (ipykernel)",
   "language": "python",
   "name": "python3"
  },
  "language_info": {
   "codemirror_mode": {
    "name": "ipython",
    "version": 3
   },
   "file_extension": ".py",
   "mimetype": "text/x-python",
   "name": "python",
   "nbconvert_exporter": "python",
   "pygments_lexer": "ipython3",
   "version": "3.10.14"
  }
 },
 "nbformat": 4,
 "nbformat_minor": 5
}
